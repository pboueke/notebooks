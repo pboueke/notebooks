{
 "cells": [
  {
   "cell_type": "markdown",
   "metadata": {},
   "source": [
    "### This dataset consists of 'circles' (or 'friends lists') from Facebook. Facebook data was collected from survey participants using this Facebook app. The dataset includes node features (profiles), circles, and ego networks.\n",
    "\n",
    "http://snap.stanford.edu/data/egonets-Facebook.html"
   ]
  },
  {
   "cell_type": "code",
   "execution_count": 1,
   "metadata": {
    "collapsed": false
   },
   "outputs": [],
   "source": [
    "#setup\n",
    "from graph_tool.all import * \n",
    "import numpy as np\n",
    "import math\n",
    "import time\n",
    "\n",
    "file_path = \"/home/jawa/Datasets/Email-Enron.txt\""
   ]
  },
  {
   "cell_type": "code",
   "execution_count": 2,
   "metadata": {
    "collapsed": false
   },
   "outputs": [],
   "source": [
    "# initialization\n",
    "g = Graph(directed=True)\n",
    "\n",
    "neighbours = {}\n",
    "vertex_id = {}\n",
    "vertex_label = {}\n",
    "\n",
    "#this time, we watn to add a edge in each direction for running pagerank and other centrality metrics\n",
    "\n",
    "with open(file_path, encoding=\"UTF-8\") as f:\n",
    "    for line in f:\n",
    "        if line.startswith(\"#\"):\n",
    "            continue\n",
    "        l = line.replace(\"\\n\", \"\").split(\"\\t\")\n",
    "        a = l[0]\n",
    "        b = l[1]\n",
    "\n",
    "        # get the vertexes\n",
    "        if a not in vertex_label:\n",
    "            v_a = g.add_vertex()\n",
    "            vertex_label[a] = v_a\n",
    "            vertex_id[g.vertex_index[v_a]] = a\n",
    "        else:\n",
    "            v_a = g.vertex(vertex_label[a])\n",
    "        if b not in vertex_label:\n",
    "            v_b = g.add_vertex()\n",
    "            vertex_label[b] = v_b\n",
    "            vertex_id[g.vertex_index[v_b]] = b\n",
    "        else:\n",
    "            v_b = g.vertex(vertex_label[b])\n",
    "        # add the edges\n",
    "        g.add_edge(v_a, v_b)\n",
    "    "
   ]
  },
  {
   "cell_type": "code",
   "execution_count": 3,
   "metadata": {
    "collapsed": false
   },
   "outputs": [
    {
     "name": "stdout",
     "output_type": "stream",
     "text": [
      "Out degree stats -> max value = 1383 / min value = 1 / average = 10.0202223918 / SV = 36.100004407\n"
     ]
    }
   ],
   "source": [
    "# degree stats\n",
    "degrre_data = {}\n",
    "degrre_data[\"out\"] = []\n",
    "degrre_data[\"in\"] = []\n",
    "counter = 0\n",
    "for v in g.vertices():\n",
    "        counter += 1\n",
    "        degrre_data[\"out\"].append(v.out_degree())\n",
    "        degrre_data[\"in\"].append(v.in_degree())\n",
    "    \n",
    "max_out = max(degrre_data[\"out\"])\n",
    "min_out = min(degrre_data[\"out\"])\n",
    "average_out = np.average(degrre_data[\"out\"])\n",
    "sd_out = np.std(degrre_data[\"out\"])\n",
    "print(\"Out degree stats -> max value = \" + str(max_out) + \" / min value = \" + str(min_out) + \" / average = \" + str(average_out) + \" / SV = \" + str(sd_out))"
   ]
  },
  {
   "cell_type": "code",
   "execution_count": 4,
   "metadata": {
    "collapsed": false
   },
   "outputs": [
    {
     "name": "stdout",
     "output_type": "stream",
     "text": [
      "Diameter = (13.0, (<Vertex object with index '29423' at 0x7ff55aa447c8>, <Vertex object with index '33678' at 0x7ff55aa44750>))\n"
     ]
    }
   ],
   "source": [
    "# distance stats\n",
    "#shortest_distance = graph_tool.topology.shortest_distance(g)\n",
    "#global_avg = []\n",
    "#for dist in shortest_distance:\n",
    "#    global_avg.append(np.average(dist))\n",
    "pseudo_diameter = graph_tool.topology.pseudo_diameter(g)\n",
    "\n",
    "# there are non connect components in the graph, so we cant just calculate the avverage shortest distance\n",
    "#print(\"Shortest Distance Average = \" + str(np.average(global_avg)) + \" / Diameter = \" + str(pseudo_diameter))\n",
    "print(\"Diameter = \" + str(pseudo_diameter))"
   ]
  },
  {
   "cell_type": "code",
   "execution_count": 5,
   "metadata": {
    "collapsed": false
   },
   "outputs": [
    {
     "name": "stdout",
     "output_type": "stream",
     "text": [
      "Clustering Average = 0.0460164089095 / Clustering SV = 0.0389887853106\n"
     ]
    }
   ],
   "source": [
    "# clustering stats\n",
    "global_clustering = graph_tool.clustering.global_clustering(g)\n",
    "\n",
    "print (\"Clustering Average = \" + str(np.average(global_clustering)) + \" / \" + \"Clustering SV = \" + str(np.std(global_clustering)))"
   ]
  },
  {
   "cell_type": "code",
   "execution_count": 6,
   "metadata": {
    "collapsed": false
   },
   "outputs": [
    {
     "name": "stdout",
     "output_type": "stream",
     "text": [
      "Connected components = 1065 / Edges in Largest component = 361622 / Vertices in Largest component = 33696\n"
     ]
    }
   ],
   "source": [
    "# connected componet stats\n",
    "comp, hist = label_components(g)\n",
    "\n",
    "labels = list(set(comp.a))\n",
    "largest = label_largest_component(g)\n",
    "l = GraphView(g, vfilt=largest)\n",
    "\n",
    "print(\"Connected components = \" + str(len(labels)) + \" / Edges in Largest component = \" + str(l.num_edges()) + \" / Vertices in Largest component = \" + str(l.num_vertices()))"
   ]
  },
  {
   "cell_type": "code",
   "execution_count": 7,
   "metadata": {
    "collapsed": false
   },
   "outputs": [
    {
     "name": "stdout",
     "output_type": "stream",
     "text": [
      "Time Taken: 120.4083731174469s\n",
      "Closeness stats -> max value = 1.0 / min value = 0.114171961033 / average = 0.307049701751 / SV = 0.190206013781\n"
     ]
    }
   ],
   "source": [
    "start = time.time()\n",
    "# vertex closeness stats\n",
    "g_closeness = closeness(g)\n",
    "c_list = []\n",
    "for vc in g_closeness.a:\n",
    "    if not math.isnan(vc):\n",
    "        c_list.append(vc)\n",
    "\n",
    "end = time.time()\n",
    "print(\"Time Taken: \" + str(end - start) +\"s\")\n",
    "print(\"Closeness stats -> max value = \" + str(max(c_list)) + \" / min value = \" + str(min(c_list)) + \" / average = \" + str(np.average(c_list)) + \" / SV = \" + str(np.std(c_list)))\n",
    "\n",
    "closeness_dic   = {}\n",
    "zero_closeness = 0\n",
    "for i in range(0, len(g_closeness.a)):\n",
    "    if (g.vertex(i).out_degree() != 0):\n",
    "        closeness_dic[g.vertex_index[i]] = g_closeness.a[i]\n",
    "    else:\n",
    "        zero_closeness += 1"
   ]
  },
  {
   "cell_type": "code",
   "execution_count": 8,
   "metadata": {
    "collapsed": false,
    "scrolled": true
   },
   "outputs": [
    {
     "name": "stdout",
     "output_type": "stream",
     "text": [
      "Time Taken: 152.6016399860382s\n",
      "Betweenness stats -> max value = 0.0648511760831395 / min value = 0.0 / average = 6.95367656148e-05 / SV = 0.000878765393182\n"
     ]
    }
   ],
   "source": [
    "# betweenness stats\n",
    "start=time.time()\n",
    "g_betweenness, edge_betweenness = betweenness(g)\n",
    "v_b = list(g_betweenness)\n",
    "end = time.time()\n",
    "print(\"Time Taken: \" + str(end - start) +\"s\")\n",
    "print(\"Betweenness stats -> max value = \" + str(max(v_b)) + \" / min value = \" + str(min(v_b)) + \" / average = \" + str(np.average(v_b)) + \" / SV = \" + str(np.std(v_b)))\n",
    "\n",
    "betweenness_dic   = {}\n",
    "zero_betweenness = 0\n",
    "for i in range(0, len(g_betweenness.a)):\n",
    "    if (g.vertex(i).out_degree() != 0):\n",
    "        betweenness_dic[g.vertex_index[i]] = g_betweenness.a[i]\n",
    "    else:\n",
    "        zero_betweenness += 1"
   ]
  },
  {
   "cell_type": "code",
   "execution_count": 9,
   "metadata": {
    "collapsed": false
   },
   "outputs": [
    {
     "name": "stdout",
     "output_type": "stream",
     "text": [
      "Time Taken: 0.6195271015167236s\n"
     ]
    }
   ],
   "source": [
    "start=time.time()\n",
    "# degree centrality metrics\n",
    "out_dic = {}\n",
    "in_dic  = {}\n",
    "zero_out = 0\n",
    "zero_in  = 0\n",
    "v_num = len(vertex_id.keys())\n",
    "for v in g.vertices():\n",
    "    if (v.out_degree() == 0):\n",
    "        zero_out += 1\n",
    "    else:\n",
    "        out_dic[g.vertex_index[v]] = 1.0* v.out_degree() / (v_num - 1)\n",
    "    if (v.in_degree() == 0):\n",
    "        zero_in += 1\n",
    "    else:\n",
    "        in_dic[g.vertex_index[v]]  = v.in_degree() / (v_num - 1)\n",
    "end = time.time()\n",
    "print(\"Time Taken: \" + str(end - start) +\"s\")"
   ]
  },
  {
   "cell_type": "code",
   "execution_count": 10,
   "metadata": {
    "collapsed": false
   },
   "outputs": [
    {
     "name": "stderr",
     "output_type": "stream",
     "text": [
      "/usr/lib/python3/dist-packages/graph_tool/centrality/__init__.py:765: RuntimeWarning: invalid value encountered in true_divide\n",
      "  vprop.fa = vprop.fa / numpy.linalg.norm(vprop.fa)\n"
     ]
    },
    {
     "name": "stdout",
     "output_type": "stream",
     "text": [
      "Time Taken: 9.770009994506836s\n"
     ]
    }
   ],
   "source": [
    "start=time.time()\n",
    "# katz\n",
    "g_katz = graph_tool.all.katz(g)\n",
    "katz_dic = {}\n",
    "for i in range(0, len(g_katz.a)):\n",
    "    katz_dic[g.vertex_index[i]] = g_katz.a[i]\n",
    "end = time.time()\n",
    "print(\"Time Taken: \" + str(end - start) +\"s\")"
   ]
  },
  {
   "cell_type": "code",
   "execution_count": 11,
   "metadata": {
    "collapsed": false
   },
   "outputs": [
    {
     "name": "stdout",
     "output_type": "stream",
     "text": [
      "Time Taken: 2.790212392807007s\n"
     ]
    }
   ],
   "source": [
    "start=time.time()\n",
    "# pagerank\n",
    "g_pagerank = pagerank(g)\n",
    "pagerank_dic = {}\n",
    "for i in range(0, len(g_pagerank.a)):\n",
    "    pagerank_dic[g.vertex_index[i]] = g_pagerank.a[i]\n",
    "end = time.time()\n",
    "print(\"Time Taken: \" + str(end - start) +\"s\")"
   ]
  },
  {
   "cell_type": "code",
   "execution_count": 12,
   "metadata": {
    "collapsed": false
   },
   "outputs": [
    {
     "name": "stdout",
     "output_type": "stream",
     "text": [
      "Degree centrality (IN)\n",
      "Total zeros: 0\n",
      "Most central:\n",
      "[(92, 0.02518328745468916), (79, 0.02796326074514186), (148, 0.029107955629445913), (245, 0.029952849472622715), (85, 0.03115205363713172), (197, 0.03390477228748194), (80, 0.03393202692758442), (191, 0.03436810116922406), (144, 0.037257093020086667), (271, 0.03769316726172631)]\n",
      "Least central:\n",
      "[(0, 2.7254640102477445e-05), (17, 2.7254640102477445e-05), (2, 2.7254640102477445e-05), (20, 2.7254640102477445e-05), (22, 2.7254640102477445e-05), (23, 2.7254640102477445e-05), (8, 2.7254640102477445e-05), (26, 2.7254640102477445e-05), (14, 2.7254640102477445e-05), (24, 2.7254640102477445e-05)]\n",
      "====================================================================================================\n",
      "Degree centrality (OUT)\n",
      "Total zeros: 0\n",
      "Most central:\n",
      "[(92, 0.02518328745468916), (79, 0.02796326074514186), (148, 0.029107955629445913), (245, 0.029952849472622715), (85, 0.03115205363713172), (197, 0.03390477228748194), (80, 0.03393202692758442), (191, 0.03436810116922406), (144, 0.037257093020086667), (271, 0.03769316726172631)]\n",
      "Least central:\n",
      "[(0, 2.7254640102477445e-05), (17, 2.7254640102477445e-05), (2, 2.7254640102477445e-05), (20, 2.7254640102477445e-05), (22, 2.7254640102477445e-05), (23, 2.7254640102477445e-05), (8, 2.7254640102477445e-05), (26, 2.7254640102477445e-05), (14, 2.7254640102477445e-05), (24, 2.7254640102477445e-05)]\n",
      "====================================================================================================\n",
      "Betweenness\n",
      "Total zeros: 0\n",
      "Most central:\n",
      "[(1273, 0.025520044922314359), (197, 0.028345498011121149), (46, 0.030632588152081638), (191, 0.034508977605236205), (144, 0.034976045001356565), (148, 0.035407093539515509), (93, 0.035459666524326132), (92, 0.036326215624291981), (80, 0.060408269786987497), (271, 0.064851176083139506)]\n",
      "Least central:\n",
      "[(0, 0.0), (17, 0.0), (2, 0.0), (20, 0.0), (22, 0.0), (23, 0.0), (8, 0.0), (10, 0.0), (14, 0.0), (24, 0.0)]\n",
      "====================================================================================================\n",
      "Closeness\n",
      "Total zeros: 0\n",
      "Most central:\n",
      "[(29910, 1.0), (29804, 1.0), (29909, 1.0), (22534, 1.0), (22535, 1.0), (29532, 1.0), (25547, 1.0), (26028, 1.0), (26029, 1.0), (26030, 1.0)]\n",
      "Least central:\n",
      "[(29422, 0.1141719610334604), (29423, 0.1141719610334604), (35039, 0.12712455905378128), (35036, 0.12712455905378128), (35037, 0.12712455905378128), (35038, 0.12712455905378128), (33222, 0.12886804936722901), (33223, 0.12886804936722901), (25893, 0.1288867808331835), (33678, 0.13101463926745338)]\n",
      "====================================================================================================\n",
      "Katz\n",
      "\n",
      "Most central:\n",
      "[(0, 0.0), (16, 0.0), (2, 0.0), (4, 0.0), (6, 0.0), (8, 0.0), (10, 0.0), (12, 0.0), (18, 0.0), (14, 0.0)]\n",
      "Least central:\n",
      "[(19, 0.0), (1, 0.0), (3, 0.0), (17, 0.0), (5, nan), (7, 0.0), (9, 0.0), (11, 0.0), (13, 0.0), (15, 0.0)]\n",
      "====================================================================================================\n",
      "PageRank\n",
      "\n",
      "Most central:\n",
      "[(2284, 0.0022106935828597541), (245, 0.002370362327009364), (148, 0.0025655903844942593), (197, 0.0028102695263617708), (92, 0.0029282071730712747), (93, 0.0029544173435134364), (191, 0.0029877688344555255), (80, 0.0030224699991074303), (144, 0.0032639248517477432), (271, 0.013727968456557193)]\n",
      "Least central:\n",
      "[(12694, 5.4072362418797955e-06), (12697, 5.4072362418797955e-06), (12703, 5.4072362418797955e-06), (10739, 5.4249607177612178e-06), (6911, 5.4270985396525076e-06), (28272, 5.4366885613826754e-06), (16585, 5.4516245631067955e-06), (5052, 5.4544287036721531e-06), (19628, 5.4562706284352093e-06), (17994, 5.4586898392075443e-06)]\n",
      "====================================================================================================\n"
     ]
    }
   ],
   "source": [
    "# print centrality metrics\n",
    "def topTen(metric_name, dic, string=\"\"):\n",
    "    most = {}\n",
    "    less = {}\n",
    "    for i in range(0, 10):\n",
    "        # +\n",
    "        n = max(dic, key=dic.get)\n",
    "        most[n] = dic[n]\n",
    "        del dic[n]\n",
    "        # -\n",
    "        n = min(dic, key=dic.get)\n",
    "        less[n] = dic[n]\n",
    "        del dic[n]    \n",
    "    print(metric_name)\n",
    "    print(string)\n",
    "    print(\"Most central:\")\n",
    "    print(sorted(most.items(), key=lambda x: x[1]))\n",
    "    print(\"Least central:\")\n",
    "    print(sorted(less.items(), key=lambda x: x[1]))\n",
    "    print(\"=\"*100)\n",
    "    \n",
    "topTen(\"Degree centrality (IN)\", in_dic, \"Total zeros: \"+str(zero_in))\n",
    "topTen(\"Degree centrality (OUT)\", out_dic, \"Total zeros: \"+str(zero_out))\n",
    "topTen(\"Betweenness\", betweenness_dic, \"Total zeros: \"+str(zero_betweenness))\n",
    "topTen(\"Closeness\", closeness_dic, \"Total zeros: \"+str(zero_closeness))\n",
    "topTen(\"Katz\", katz_dic)\n",
    "topTen(\"PageRank\", pagerank_dic)"
   ]
  }
 ],
 "metadata": {
  "kernelspec": {
   "display_name": "Python 3",
   "language": "python",
   "name": "python3"
  },
  "language_info": {
   "codemirror_mode": {
    "name": "ipython",
    "version": 3
   },
   "file_extension": ".py",
   "mimetype": "text/x-python",
   "name": "python",
   "nbconvert_exporter": "python",
   "pygments_lexer": "ipython3",
   "version": "3.4.3"
  }
 },
 "nbformat": 4,
 "nbformat_minor": 0
}

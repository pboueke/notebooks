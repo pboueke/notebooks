{
 "cells": [
  {
   "cell_type": "markdown",
   "metadata": {},
   "source": [
    "### This dataset consists of 'circles' (or 'friends lists') from Facebook. Facebook data was collected from survey participants using this Facebook app. The dataset includes node features (profiles), circles, and ego networks.\n",
    "\n",
    "http://snap.stanford.edu/data/egonets-Facebook.html"
   ]
  },
  {
   "cell_type": "code",
   "execution_count": 1,
   "metadata": {
    "collapsed": false
   },
   "outputs": [],
   "source": [
    "#setup\n",
    "from graph_tool.all import * \n",
    "import numpy as np\n",
    "import math\n",
    "import time\n",
    "\n",
    "file_path = \"/home/jawa/Datasets/CA-AstroPh.txt\""
   ]
  },
  {
   "cell_type": "code",
   "execution_count": 2,
   "metadata": {
    "collapsed": false
   },
   "outputs": [],
   "source": [
    "# initialization\n",
    "g = Graph(directed=True)\n",
    "\n",
    "neighbours = {}\n",
    "vertex_id = {}\n",
    "vertex_label = {}\n",
    "\n",
    "#this time, we watn to add a edge in each direction for running pagerank and other centrality metrics\n",
    "\n",
    "with open(file_path, encoding=\"UTF-8\") as f:\n",
    "    for line in f:\n",
    "        if line.startswith(\"#\"):\n",
    "            continue\n",
    "        l = line.replace(\"\\n\", \"\").split(\"\\t\")\n",
    "        a = l[0]\n",
    "        b = l[1]\n",
    "\n",
    "        # get the vertexes\n",
    "        if a not in vertex_label:\n",
    "            v_a = g.add_vertex()\n",
    "            vertex_label[a] = v_a\n",
    "            vertex_id[g.vertex_index[v_a]] = a\n",
    "        else:\n",
    "            v_a = g.vertex(vertex_label[a])\n",
    "        if b not in vertex_label:\n",
    "            v_b = g.add_vertex()\n",
    "            vertex_label[b] = v_b\n",
    "            vertex_id[g.vertex_index[v_b]] = b\n",
    "        else:\n",
    "            v_b = g.vertex(vertex_label[b])\n",
    "        # add the edges\n",
    "        g.add_edge(v_a, v_b)\n",
    "    "
   ]
  },
  {
   "cell_type": "code",
   "execution_count": 3,
   "metadata": {
    "collapsed": false
   },
   "outputs": [
    {
     "name": "stdout",
     "output_type": "stream",
     "text": [
      "Out degree stats -> max value = 504 / min value = 1 / average = 21.1037715747 / SV = 30.5680137632\n"
     ]
    }
   ],
   "source": [
    "# degree stats\n",
    "degrre_data = {}\n",
    "degrre_data[\"out\"] = []\n",
    "degrre_data[\"in\"] = []\n",
    "counter = 0\n",
    "for v in g.vertices():\n",
    "        counter += 1\n",
    "        degrre_data[\"out\"].append(v.out_degree())\n",
    "        degrre_data[\"in\"].append(v.in_degree())\n",
    "    \n",
    "max_out = max(degrre_data[\"out\"])\n",
    "min_out = min(degrre_data[\"out\"])\n",
    "average_out = np.average(degrre_data[\"out\"])\n",
    "sd_out = np.std(degrre_data[\"out\"])\n",
    "print(\"Out degree stats -> max value = \" + str(max_out) + \" / min value = \" + str(min_out) + \" / average = \" + str(average_out) + \" / SV = \" + str(sd_out))"
   ]
  },
  {
   "cell_type": "code",
   "execution_count": 4,
   "metadata": {
    "collapsed": false
   },
   "outputs": [
    {
     "name": "stdout",
     "output_type": "stream",
     "text": [
      "Diameter = (14.0, (<Vertex object with index '18109' at 0x7f9357df7228>, <Vertex object with index '17810' at 0x7f9357df7750>))\n"
     ]
    }
   ],
   "source": [
    "# distance stats\n",
    "#shortest_distance = graph_tool.topology.shortest_distance(g)\n",
    "#global_avg = []\n",
    "#for dist in shortest_distance:\n",
    "#    global_avg.append(np.average(dist))\n",
    "pseudo_diameter = graph_tool.topology.pseudo_diameter(g)\n",
    "\n",
    "# there are non connect components in the graph, so we cant just calculate the avverage shortest distance\n",
    "#print(\"Shortest Distance Average = \" + str(np.average(global_avg)) + \" / Diameter = \" + str(pseudo_diameter))\n",
    "print(\"Diameter = \" + str(pseudo_diameter))"
   ]
  },
  {
   "cell_type": "code",
   "execution_count": 5,
   "metadata": {
    "collapsed": false
   },
   "outputs": [
    {
     "name": "stdout",
     "output_type": "stream",
     "text": [
      "Clustering Average = 0.160852090465 / Clustering SV = 0.154622453919\n"
     ]
    }
   ],
   "source": [
    "# clustering stats\n",
    "global_clustering = graph_tool.clustering.global_clustering(g)\n",
    "\n",
    "print (\"Clustering Average = \" + str(np.average(global_clustering)) + \" / \" + \"Clustering SV = \" + str(np.std(global_clustering)))"
   ]
  },
  {
   "cell_type": "code",
   "execution_count": 6,
   "metadata": {
    "collapsed": false
   },
   "outputs": [
    {
     "name": "stdout",
     "output_type": "stream",
     "text": [
      "Connected components = 290 / Edges in Largest component = 394003 / Vertices in Largest component = 17903\n"
     ]
    }
   ],
   "source": [
    "# connected componet stats\n",
    "comp, hist = label_components(g)\n",
    "\n",
    "labels = list(set(comp.a))\n",
    "largest = label_largest_component(g)\n",
    "l = GraphView(g, vfilt=largest)\n",
    "\n",
    "print(\"Connected components = \" + str(len(labels)) + \" / Edges in Largest component = \" + str(l.num_edges()) + \" / Vertices in Largest component = \" + str(l.num_vertices()))"
   ]
  },
  {
   "cell_type": "code",
   "execution_count": 7,
   "metadata": {
    "collapsed": false
   },
   "outputs": [
    {
     "name": "stdout",
     "output_type": "stream",
     "text": [
      "Time Taken: 49.925013065338135s\n",
      "Closeness stats -> max value = 1.0 / min value = 0.101486411411 / average = 0.275854933257 / SV = 0.152575595454\n"
     ]
    }
   ],
   "source": [
    "start = time.time()\n",
    "# vertex closeness stats\n",
    "g_closeness = closeness(g)\n",
    "c_list = []\n",
    "for vc in g_closeness.a:\n",
    "    if not math.isnan(vc):\n",
    "        c_list.append(vc)\n",
    "\n",
    "end = time.time()\n",
    "print(\"Time Taken: \" + str(end - start) +\"s\")\n",
    "print(\"Closeness stats -> max value = \" + str(max(c_list)) + \" / min value = \" + str(min(c_list)) + \" / average = \" + str(np.average(c_list)) + \" / SV = \" + str(np.std(c_list)))\n",
    "\n",
    "closeness_dic   = {}\n",
    "zero_closeness = 0\n",
    "for i in range(0, len(g_closeness.a)):\n",
    "    if (g.vertex(i).out_degree() != 0):\n",
    "        closeness_dic[g.vertex_index[i]] = g_closeness.a[i]\n",
    "    else:\n",
    "        zero_closeness += 1"
   ]
  },
  {
   "cell_type": "code",
   "execution_count": 8,
   "metadata": {
    "collapsed": false,
    "scrolled": true
   },
   "outputs": [
    {
     "name": "stdout",
     "output_type": "stream",
     "text": [
      "Time Taken: 69.60650634765625s\n",
      "Betweenness stats -> max value = 0.024184664102376973 / min value = 0.0 / average = 0.000154775367758 / SV = 0.000515384827647\n"
     ]
    }
   ],
   "source": [
    "# betweenness stats\n",
    "start=time.time()\n",
    "g_betweenness, edge_betweenness = betweenness(g)\n",
    "v_b = list(g_betweenness)\n",
    "end = time.time()\n",
    "print(\"Time Taken: \" + str(end - start) +\"s\")\n",
    "print(\"Betweenness stats -> max value = \" + str(max(v_b)) + \" / min value = \" + str(min(v_b)) + \" / average = \" + str(np.average(v_b)) + \" / SV = \" + str(np.std(v_b)))\n",
    "\n",
    "betweenness_dic   = {}\n",
    "zero_betweenness = 0\n",
    "for i in range(0, len(g_betweenness.a)):\n",
    "    if (g.vertex(i).out_degree() != 0):\n",
    "        betweenness_dic[g.vertex_index[i]] = g_betweenness.a[i]\n",
    "    else:\n",
    "        zero_betweenness += 1"
   ]
  },
  {
   "cell_type": "code",
   "execution_count": 9,
   "metadata": {
    "collapsed": false
   },
   "outputs": [
    {
     "name": "stdout",
     "output_type": "stream",
     "text": [
      "Time Taken: 0.320690393447876s\n"
     ]
    }
   ],
   "source": [
    "start=time.time()\n",
    "# degree centrality metrics\n",
    "out_dic = {}\n",
    "in_dic  = {}\n",
    "zero_out = 0\n",
    "zero_in  = 0\n",
    "v_num = len(vertex_id.keys())\n",
    "for v in g.vertices():\n",
    "    if (v.out_degree() == 0):\n",
    "        zero_out += 1\n",
    "    else:\n",
    "        out_dic[g.vertex_index[v]] = 1.0* v.out_degree() / (v_num - 1)\n",
    "    if (v.in_degree() == 0):\n",
    "        zero_in += 1\n",
    "    else:\n",
    "        in_dic[g.vertex_index[v]]  = v.in_degree() / (v_num - 1)\n",
    "end = time.time()\n",
    "print(\"Time Taken: \" + str(end - start) +\"s\")"
   ]
  },
  {
   "cell_type": "code",
   "execution_count": 10,
   "metadata": {
    "collapsed": false
   },
   "outputs": [
    {
     "name": "stdout",
     "output_type": "stream",
     "text": [
      "Time Taken: 1.8410074710845947s\n"
     ]
    }
   ],
   "source": [
    "start=time.time()\n",
    "# katz\n",
    "g_katz = graph_tool.all.katz(g)\n",
    "katz_dic = {}\n",
    "for i in range(0, len(g_katz.a)):\n",
    "    katz_dic[g.vertex_index[i]] = g_katz.a[i]\n",
    "end = time.time()\n",
    "print(\"Time Taken: \" + str(end - start) +\"s\")"
   ]
  },
  {
   "cell_type": "code",
   "execution_count": 11,
   "metadata": {
    "collapsed": false
   },
   "outputs": [
    {
     "name": "stdout",
     "output_type": "stream",
     "text": [
      "Time Taken: 1.4703309535980225s\n"
     ]
    }
   ],
   "source": [
    "start=time.time()\n",
    "# pagerank\n",
    "g_pagerank = pagerank(g)\n",
    "pagerank_dic = {}\n",
    "for i in range(0, len(g_pagerank.a)):\n",
    "    pagerank_dic[g.vertex_index[i]] = g_pagerank.a[i]\n",
    "end = time.time()\n",
    "print(\"Time Taken: \" + str(end - start) +\"s\")"
   ]
  },
  {
   "cell_type": "code",
   "execution_count": 12,
   "metadata": {
    "collapsed": false
   },
   "outputs": [
    {
     "name": "stdout",
     "output_type": "stream",
     "text": [
      "Degree centrality (IN)\n",
      "Total zeros: 0\n",
      "Most central:\n",
      "[(876, 0.018645783389270684), (2123, 0.01869905705609717), (255, 0.019285067391188536), (284, 0.019657983058973948), (966, 0.020457088061371264), (2125, 0.02061690906185073), (2294, 0.022268392733471844), (303, 0.02237494006712482), (298, 0.022747855734910234), (325, 0.026849928080549784)]\n",
      "Least central:\n",
      "[(160, 5.327366682648767e-05), (512, 5.327366682648767e-05), (514, 5.327366682648767e-05), (532, 5.327366682648767e-05), (133, 5.327366682648767e-05), (521, 5.327366682648767e-05), (657, 5.327366682648767e-05), (169, 5.327366682648767e-05), (126, 5.327366682648767e-05), (181, 5.327366682648767e-05)]\n",
      "====================================================================================================\n",
      "Degree centrality (OUT)\n",
      "Total zeros: 0\n",
      "Most central:\n",
      "[(876, 0.018645783389270684), (2123, 0.01869905705609717), (255, 0.019285067391188536), (284, 0.019657983058973948), (966, 0.020457088061371264), (2125, 0.02061690906185073), (2294, 0.022268392733471844), (303, 0.02237494006712482), (298, 0.022747855734910234), (325, 0.026849928080549784)]\n",
      "Least central:\n",
      "[(160, 5.327366682648767e-05), (512, 5.327366682648767e-05), (514, 5.327366682648767e-05), (532, 5.327366682648767e-05), (133, 5.327366682648767e-05), (521, 5.327366682648767e-05), (657, 5.327366682648767e-05), (169, 5.327366682648767e-05), (126, 5.327366682648767e-05), (181, 5.327366682648767e-05)]\n",
      "====================================================================================================\n",
      "Betweenness\n",
      "Total zeros: 0\n",
      "Most central:\n",
      "[(201, 0.0084872228863728683), (4308, 0.0092703559205517278), (966, 0.0096334166507597522), (359, 0.0096448448180233969), (325, 0.0097109916932275886), (298, 0.010073752733973512), (1236, 0.011117782328984353), (3748, 0.011597411723613728), (876, 0.012256319851855652), (255, 0.024184664102376973)]\n",
      "Least central:\n",
      "[(99, 0.0), (81, 0.0), (126, 0.0), (3, 0.0), (94, 0.0), (73, 0.0), (9, 0.0), (103, 0.0), (13, 0.0), (30, 0.0)]\n",
      "====================================================================================================\n",
      "Closeness\n",
      "Total zeros: 0\n",
      "Most central:\n",
      "[(4552, 1.0), (5576, 1.0), (2932, 1.0), (2933, 1.0), (2934, 1.0), (4551, 1.0), (4550, 1.0), (4553, 1.0), (1066, 1.0), (1067, 1.0)]\n",
      "Least central:\n",
      "[(18108, 0.10148641141056021), (18109, 0.10148641141056021), (18107, 0.1014869867401373), (18448, 0.10364092143274803), (18447, 0.10364092143274803), (17344, 0.11294352193004593), (17346, 0.11294352193004593), (17500, 0.11294565964883502), (17499, 0.11294779744854826), (18445, 0.11562134687049919)]\n",
      "====================================================================================================\n",
      "Katz\n",
      "\n",
      "Most central:\n",
      "[(2298, 0.095340237279264897), (2276, 0.095954521665942233), (123, 0.097931401720794994), (164, 0.098802195417468971), (284, 0.10115148456728533), (2123, 0.11015264537176728), (2125, 0.11546528770693006), (2294, 0.11570028666386432), (303, 0.11905901757933525), (325, 0.12924568197932829)]\n",
      "Least central:\n",
      "[(11248, 0.0012738326139718592), (11249, 0.0012738326139718592), (6067, 0.0012738326139718592), (6068, 0.0012738326139718592), (5576, 0.0012738326139718592), (5577, 0.0012738326139718592), (1066, 0.0012738326139718592), (1067, 0.0012738326139718592), (11646, 0.0012738326139718592), (11647, 0.0012738326139718592)]\n",
      "====================================================================================================\n",
      "PageRank\n",
      "\n",
      "Most central:\n",
      "[(2284, 0.00053208219704668997), (284, 0.00053968089823494547), (2125, 0.00055311962124405623), (1090, 0.00055649041799804664), (966, 0.00057736800966060292), (2294, 0.00062866222452166861), (303, 0.00064540258086007976), (298, 0.00068362084746766019), (255, 0.00071960000281969493), (325, 0.00075815125001758095)]\n",
      "Least central:\n",
      "[(16919, 9.2055363167807088e-06), (18119, 9.2404691881052222e-06), (8009, 9.243661819983383e-06), (16269, 9.2583681162628853e-06), (15841, 9.2656683263453037e-06), (961, 9.2699853220935074e-06), (17513, 9.2707386085569245e-06), (7398, 9.2752412432169297e-06), (10766, 9.2755319105533381e-06), (10765, 9.2755319105533381e-06)]\n",
      "====================================================================================================\n"
     ]
    }
   ],
   "source": [
    "# print centrality metrics\n",
    "def topTen(metric_name, dic, string=\"\"):\n",
    "    most = {}\n",
    "    less = {}\n",
    "    for i in range(0, 10):\n",
    "        # +\n",
    "        n = max(dic, key=dic.get)\n",
    "        most[n] = dic[n]\n",
    "        del dic[n]\n",
    "        # -\n",
    "        n = min(dic, key=dic.get)\n",
    "        less[n] = dic[n]\n",
    "        del dic[n]    \n",
    "    print(metric_name)\n",
    "    print(string)\n",
    "    print(\"Most central:\")\n",
    "    print(sorted(most.items(), key=lambda x: x[1]))\n",
    "    print(\"Least central:\")\n",
    "    print(sorted(less.items(), key=lambda x: x[1]))\n",
    "    print(\"=\"*100)\n",
    "    \n",
    "topTen(\"Degree centrality (IN)\", in_dic, \"Total zeros: \"+str(zero_in))\n",
    "topTen(\"Degree centrality (OUT)\", out_dic, \"Total zeros: \"+str(zero_out))\n",
    "topTen(\"Betweenness\", betweenness_dic, \"Total zeros: \"+str(zero_betweenness))\n",
    "topTen(\"Closeness\", closeness_dic, \"Total zeros: \"+str(zero_closeness))\n",
    "topTen(\"Katz\", katz_dic)\n",
    "topTen(\"PageRank\", pagerank_dic)"
   ]
  }
 ],
 "metadata": {
  "kernelspec": {
   "display_name": "Python 3",
   "language": "python",
   "name": "python3"
  },
  "language_info": {
   "codemirror_mode": {
    "name": "ipython",
    "version": 3
   },
   "file_extension": ".py",
   "mimetype": "text/x-python",
   "name": "python",
   "nbconvert_exporter": "python",
   "pygments_lexer": "ipython3",
   "version": "3.4.3"
  }
 },
 "nbformat": 4,
 "nbformat_minor": 0
}

{
 "cells": [
  {
   "cell_type": "markdown",
   "metadata": {},
   "source": [
    "### This dataset consists of 'circles' (or 'friends lists') from Facebook. Facebook data was collected from survey participants using this Facebook app. The dataset includes node features (profiles), circles, and ego networks.\n",
    "\n",
    "http://snap.stanford.edu/data/egonets-Facebook.html"
   ]
  },
  {
   "cell_type": "code",
   "execution_count": 4,
   "metadata": {
    "collapsed": false
   },
   "outputs": [],
   "source": [
    "#setup\n",
    "from graph_tool.all import * \n",
    "import numpy as np\n",
    "import math\n",
    "import time\n",
    "\n",
    "file_path = \"/home/jawa/Datasets/facebook_combined.txt\""
   ]
  },
  {
   "cell_type": "code",
   "execution_count": 5,
   "metadata": {
    "collapsed": false
   },
   "outputs": [],
   "source": [
    "# initialization\n",
    "g = Graph(directed=True)\n",
    "\n",
    "neighbours = {}\n",
    "vertex_id = {}\n",
    "vertex_label = {}\n",
    "\n",
    "#this time, we watn to add a edge in each direction for running pagerank and other centrality metrics\n",
    "\n",
    "with open(file_path, encoding=\"UTF-8\") as f:\n",
    "    for line in f:\n",
    "        if line.startswith(\"#\"):\n",
    "            continue\n",
    "        l = line.replace(\"\\n\", \"\").split(\" \")\n",
    "        a = l[0]\n",
    "        b = l[1]\n",
    "\n",
    "        # get the vertexes\n",
    "        if a not in vertex_label:\n",
    "            v_a = g.add_vertex()\n",
    "            vertex_label[a] = v_a\n",
    "            vertex_id[g.vertex_index[v_a]] = a\n",
    "        else:\n",
    "            v_a = g.vertex(vertex_label[a])\n",
    "        if b not in vertex_label:\n",
    "            v_b = g.add_vertex()\n",
    "            vertex_label[b] = v_b\n",
    "            vertex_id[g.vertex_index[v_b]] = b\n",
    "        else:\n",
    "            v_b = g.vertex(vertex_label[b])\n",
    "        # add the edges\n",
    "        g.add_edge(v_a, v_b)\n",
    "    "
   ]
  },
  {
   "cell_type": "code",
   "execution_count": 6,
   "metadata": {
    "collapsed": false
   },
   "outputs": [
    {
     "name": "stdout",
     "output_type": "stream",
     "text": [
      "Out degree stats -> max value = 1043 / min value = 0 / average = 21.8455063134 / SV = 38.8993202652\n"
     ]
    }
   ],
   "source": [
    "# degree stats\n",
    "degrre_data = {}\n",
    "degrre_data[\"out\"] = []\n",
    "degrre_data[\"in\"] = []\n",
    "counter = 0\n",
    "for v in g.vertices():\n",
    "        counter += 1\n",
    "        degrre_data[\"out\"].append(v.out_degree())\n",
    "        degrre_data[\"in\"].append(v.in_degree())\n",
    "    \n",
    "max_out = max(degrre_data[\"out\"])\n",
    "min_out = min(degrre_data[\"out\"])\n",
    "average_out = np.average(degrre_data[\"out\"])\n",
    "sd_out = np.std(degrre_data[\"out\"])\n",
    "print(\"Out degree stats -> max value = \" + str(max_out) + \" / min value = \" + str(min_out) + \" / average = \" + str(average_out) + \" / SV = \" + str(sd_out))"
   ]
  },
  {
   "cell_type": "code",
   "execution_count": 7,
   "metadata": {
    "collapsed": false
   },
   "outputs": [
    {
     "name": "stdout",
     "output_type": "stream",
     "text": [
      "Diameter = (5.0, (<Vertex object with index '0' at 0x7fb358083c78>, <Vertex object with index '4035' at 0x7fb358083e58>))\n"
     ]
    }
   ],
   "source": [
    "# distance stats\n",
    "#shortest_distance = graph_tool.topology.shortest_distance(g)\n",
    "#global_avg = []\n",
    "#for dist in shortest_distance:\n",
    "#    global_avg.append(np.average(dist))\n",
    "pseudo_diameter = graph_tool.topology.pseudo_diameter(g)\n",
    "\n",
    "# there are non connect components in the graph, so we cant just calculate the avverage shortest distance\n",
    "#print(\"Shortest Distance Average = \" + str(np.average(global_avg)) + \" / Diameter = \" + str(pseudo_diameter))\n",
    "print(\"Diameter = \" + str(pseudo_diameter))"
   ]
  },
  {
   "cell_type": "code",
   "execution_count": 8,
   "metadata": {
    "collapsed": false
   },
   "outputs": [
    {
     "name": "stdout",
     "output_type": "stream",
     "text": [
      "Clustering Average = 0.278343743128 / Clustering SV = 0.240830534415\n"
     ]
    }
   ],
   "source": [
    "# clustering stats\n",
    "global_clustering = graph_tool.clustering.global_clustering(g)\n",
    "\n",
    "print (\"Clustering Average = \" + str(np.average(global_clustering)) + \" / \" + \"Clustering SV = \" + str(np.std(global_clustering)))"
   ]
  },
  {
   "cell_type": "code",
   "execution_count": 9,
   "metadata": {
    "collapsed": false
   },
   "outputs": [
    {
     "name": "stdout",
     "output_type": "stream",
     "text": [
      "Connected components = 4039 / Edges in Largest component = 0 / Vertices in Largest component = 1\n"
     ]
    }
   ],
   "source": [
    "# connected componet stats\n",
    "comp, hist = label_components(g)\n",
    "\n",
    "labels = list(set(comp.a))\n",
    "largest = label_largest_component(g)\n",
    "l = GraphView(g, vfilt=largest)\n",
    "\n",
    "print(\"Connected components = \" + str(len(labels)) + \" / Edges in Largest component = \" + str(l.num_edges()) + \" / Vertices in Largest component = \" + str(l.num_vertices()))"
   ]
  },
  {
   "cell_type": "code",
   "execution_count": 10,
   "metadata": {
    "collapsed": false
   },
   "outputs": [
    {
     "name": "stdout",
     "output_type": "stream",
     "text": [
      "Time Taken: 0.49744653701782227s\n",
      "Closeness stats -> max value = 1.0 / min value = 0.113237639553 / average = 0.424170603274 / SV = 0.223657127729\n"
     ]
    }
   ],
   "source": [
    "start = time.time()\n",
    "# vertex closeness stats\n",
    "g_closeness = closeness(g)\n",
    "c_list = []\n",
    "for vc in g_closeness.a:\n",
    "    if not math.isnan(vc):\n",
    "        c_list.append(vc)\n",
    "\n",
    "end = time.time()\n",
    "print(\"Time Taken: \" + str(end - start) +\"s\")\n",
    "print(\"Closeness stats -> max value = \" + str(max(c_list)) + \" / min value = \" + str(min(c_list)) + \" / average = \" + str(np.average(c_list)) + \" / SV = \" + str(np.std(c_list)))\n",
    "\n",
    "closeness_dic   = {}\n",
    "zero_closeness = 0\n",
    "for i in range(0, len(g_closeness.a)):\n",
    "    if (g.vertex(i).out_degree() != 0):\n",
    "        closeness_dic[g.vertex_index[i]] = g_closeness.a[i]\n",
    "    else:\n",
    "        zero_closeness += 1"
   ]
  },
  {
   "cell_type": "code",
   "execution_count": 11,
   "metadata": {
    "collapsed": false,
    "scrolled": true
   },
   "outputs": [
    {
     "name": "stdout",
     "output_type": "stream",
     "text": [
      "Time Taken: 0.3327329158782959s\n",
      "Betweenness stats -> max value = 0.03299985344063619 / min value = 0.0 / average = 0.000127145013489 / SV = 0.000953272857455\n"
     ]
    }
   ],
   "source": [
    "# betweenness stats\n",
    "start=time.time()\n",
    "g_betweenness, edge_betweenness = betweenness(g)\n",
    "v_b = list(g_betweenness)\n",
    "end = time.time()\n",
    "print(\"Time Taken: \" + str(end - start) +\"s\")\n",
    "print(\"Betweenness stats -> max value = \" + str(max(v_b)) + \" / min value = \" + str(min(v_b)) + \" / average = \" + str(np.average(v_b)) + \" / SV = \" + str(np.std(v_b)))\n",
    "\n",
    "betweenness_dic   = {}\n",
    "zero_betweenness = 0\n",
    "for i in range(0, len(g_betweenness.a)):\n",
    "    if (g.vertex(i).out_degree() != 0):\n",
    "        betweenness_dic[g.vertex_index[i]] = g_betweenness.a[i]\n",
    "    else:\n",
    "        zero_betweenness += 1"
   ]
  },
  {
   "cell_type": "code",
   "execution_count": 12,
   "metadata": {
    "collapsed": false
   },
   "outputs": [
    {
     "name": "stdout",
     "output_type": "stream",
     "text": [
      "Time Taken: 0.06796121597290039s\n"
     ]
    }
   ],
   "source": [
    "start=time.time()\n",
    "# degree centrality metrics\n",
    "out_dic = {}\n",
    "in_dic  = {}\n",
    "zero_out = 0\n",
    "zero_in  = 0\n",
    "v_num = len(vertex_id.keys())\n",
    "for v in g.vertices():\n",
    "    if (v.out_degree() == 0):\n",
    "        zero_out += 1\n",
    "    else:\n",
    "        out_dic[g.vertex_index[v]] = 1.0* v.out_degree() / (v_num - 1)\n",
    "    if (v.in_degree() == 0):\n",
    "        zero_in += 1\n",
    "    else:\n",
    "        in_dic[g.vertex_index[v]]  = v.in_degree() / (v_num - 1)\n",
    "end = time.time()\n",
    "print(\"Time Taken: \" + str(end - start) +\"s\")"
   ]
  },
  {
   "cell_type": "code",
   "execution_count": 13,
   "metadata": {
    "collapsed": false
   },
   "outputs": [
    {
     "name": "stdout",
     "output_type": "stream",
     "text": [
      "Time Taken: 0.2946043014526367s\n"
     ]
    }
   ],
   "source": [
    "start=time.time()\n",
    "# katz\n",
    "g_katz = graph_tool.all.katz(g)\n",
    "katz_dic = {}\n",
    "for i in range(0, len(g_katz.a)):\n",
    "    katz_dic[g.vertex_index[i]] = g_katz.a[i]\n",
    "end = time.time()\n",
    "print(\"Time Taken: \" + str(end - start) +\"s\")"
   ]
  },
  {
   "cell_type": "code",
   "execution_count": 14,
   "metadata": {
    "collapsed": false
   },
   "outputs": [
    {
     "name": "stdout",
     "output_type": "stream",
     "text": [
      "Time Taken: 0.32253122329711914s\n"
     ]
    }
   ],
   "source": [
    "start=time.time()\n",
    "# pagerank\n",
    "g_pagerank = pagerank(g)\n",
    "pagerank_dic = {}\n",
    "for i in range(0, len(g_pagerank.a)):\n",
    "    pagerank_dic[g.vertex_index[i]] = g_pagerank.a[i]\n",
    "end = time.time()\n",
    "print(\"Time Taken: \" + str(end - start) +\"s\")"
   ]
  },
  {
   "cell_type": "code",
   "execution_count": 15,
   "metadata": {
    "collapsed": false
   },
   "outputs": [
    {
     "name": "stdout",
     "output_type": "stream",
     "text": [
      "Degree centrality (IN)\n",
      "Total zeros: 2\n",
      "Most central:\n",
      "[(3439, 0.04507181773155027), (1318, 0.04507181773155027), (3441, 0.04507181773155027), (3443, 0.045319465081723624), (1215, 0.045319465081723624), (1312, 0.04606240713224369), (3445, 0.04878652798415057), (1285, 0.05349182763744428), (1490, 0.06092124814264487), (1373, 0.06215948489351164)]\n",
      "Least central:\n",
      "[(1, 0.00024764735017335313), (2, 0.00024764735017335313), (3, 0.00024764735017335313), (4, 0.00024764735017335313), (5, 0.00024764735017335313), (6, 0.00024764735017335313), (7, 0.00024764735017335313), (8, 0.00024764735017335313), (10, 0.00024764735017335313), (11, 0.00024764735017335313)]\n",
      "====================================================================================================\n",
      "Degree centrality (OUT)\n",
      "Total zeros: 376\n",
      "Most central:\n",
      "[(2944, 0.046805349182763745), (366, 0.04730064388311045), (2995, 0.0512630014858841), (2126, 0.053244180287270924), (348, 0.05572065378900446), (0, 0.08593363051015354), (1821, 0.1342248637939574), (352, 0.18524021792966816), (351, 0.19266963843486876), (107, 0.25829618623080736)]\n",
      "Least central:\n",
      "[(112, 0.00024764735017335313), (33, 0.00024764735017335313), (35, 0.00024764735017335313), (52, 0.00024764735017335313), (70, 0.00024764735017335313), (145, 0.00024764735017335313), (90, 0.00024764735017335313), (76, 0.00024764735017335313), (61, 0.00024764735017335313), (47, 0.00024764735017335313)]\n",
      "====================================================================================================\n",
      "Betweenness\n",
      "Total zeros: 376\n",
      "Most central:\n",
      "[(119, 0.0063589973694760087), (1821, 0.0081943506203111388), (1710, 0.0083003759066584866), (572, 0.008553563518788854), (1142, 0.0094259371296109215), (891, 0.010123670299605512), (371, 0.01300961569074186), (1203, 0.026577614223444422), (352, 0.027145672353148877), (351, 0.03299985344063619)]\n",
      "Least central:\n",
      "[(0, 0.0), (1, 0.0), (2, 0.0), (3, 0.0), (4, 0.0), (5, 0.0), (6, 0.0), (7, 0.0), (8, 0.0), (10, 0.0)]\n",
      "====================================================================================================\n",
      "Closeness\n",
      "Total zeros: 376\n",
      "Most central:\n",
      "[(33, 1.0), (110, 1.0), (145, 1.0), (8, 1.0), (89, 1.0), (90, 1.0), (91, 1.0), (76, 1.0), (78, 1.0), (149, 1.0)]\n",
      "Least central:\n",
      "[(589, 0.11323763955342903), (772, 0.12390822578542562), (802, 0.12404567699836869), (1773, 0.12439496611810262), (898, 0.12617200129324282), (701, 0.12734281536621028), (557, 0.12775510204081633), (767, 0.13402928606459749), (759, 0.13439539616815213), (731, 0.13530239099859354)]\n",
      "====================================================================================================\n",
      "Katz\n",
      "\n",
      "Most central:\n",
      "[(3441, 0.057827297880812055), (3439, 0.058144477396554671), (3478, 0.058252604974616477), (3461, 0.058412142733879395), (3443, 0.058595670659065825), (3456, 0.05958612140574622), (3457, 0.059918859317113986), (3445, 0.061018601380635272), (1490, 0.062010815975514166), (1373, 0.063518011112488754)]\n",
      "Least central:\n",
      "[(0, 0.011099481245900846), (1831, 0.011099481245900846), (1, 0.011210476058359856), (2, 0.011210476058359856), (3, 0.011210476058359856), (4, 0.011210476058359856), (5, 0.011210476058359856), (6, 0.011210476058359856), (8, 0.011210476058359856), (7, 0.011210476058359856)]\n",
      "====================================================================================================\n",
      "PageRank\n",
      "\n",
      "Most central:\n",
      "[(1395, 0.0020177418363131151), (3477, 0.0023666215813555546), (3975, 0.0024347557876558228), (1392, 0.0024734140186704989), (1503, 0.0030134187183444212), (1373, 0.0033087584196972706), (1387, 0.0043147726124221717), (3478, 0.0043528856479986633), (2933, 0.0045068336497038454), (1396, 0.0045250050876976767)]\n",
      "Least central:\n",
      "[(0, 3.71379054221342e-05), (1831, 3.71379054221342e-05), (384, 3.7170589799887652e-05), (386, 3.7170589799887652e-05), (387, 3.7170589799887652e-05), (385, 3.7170589799887652e-05), (393, 3.7170589799887652e-05), (396, 3.7170589799887652e-05), (395, 3.7170589799887652e-05), (383, 3.7170589799887652e-05)]\n",
      "====================================================================================================\n"
     ]
    }
   ],
   "source": [
    "# print centrality metrics\n",
    "def topTen(metric_name, dic, string=\"\"):\n",
    "    most = {}\n",
    "    less = {}\n",
    "    for i in range(0, 10):\n",
    "        # +\n",
    "        n = max(dic, key=dic.get)\n",
    "        most[n] = dic[n]\n",
    "        del dic[n]\n",
    "        # -\n",
    "        n = min(dic, key=dic.get)\n",
    "        less[n] = dic[n]\n",
    "        del dic[n]    \n",
    "    print(metric_name)\n",
    "    print(string)\n",
    "    print(\"Most central:\")\n",
    "    print(sorted(most.items(), key=lambda x: x[1]))\n",
    "    print(\"Least central:\")\n",
    "    print(sorted(less.items(), key=lambda x: x[1]))\n",
    "    print(\"=\"*100)\n",
    "    \n",
    "topTen(\"Degree centrality (IN)\", in_dic, \"Total zeros: \"+str(zero_in))\n",
    "topTen(\"Degree centrality (OUT)\", out_dic, \"Total zeros: \"+str(zero_out))\n",
    "topTen(\"Betweenness\", betweenness_dic, \"Total zeros: \"+str(zero_betweenness))\n",
    "topTen(\"Closeness\", closeness_dic, \"Total zeros: \"+str(zero_closeness))\n",
    "topTen(\"Katz\", katz_dic)\n",
    "topTen(\"PageRank\", pagerank_dic)"
   ]
  }
 ],
 "metadata": {
  "kernelspec": {
   "display_name": "Python 3",
   "language": "python",
   "name": "python3"
  },
  "language_info": {
   "codemirror_mode": {
    "name": "ipython",
    "version": 3
   },
   "file_extension": ".py",
   "mimetype": "text/x-python",
   "name": "python",
   "nbconvert_exporter": "python",
   "pygments_lexer": "ipython3",
   "version": "3.4.3"
  }
 },
 "nbformat": 4,
 "nbformat_minor": 0
}

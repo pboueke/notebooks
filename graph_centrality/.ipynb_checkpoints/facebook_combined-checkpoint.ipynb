{
 "cells": [
  {
   "cell_type": "markdown",
   "metadata": {},
   "source": [
    "### This dataset consists of 'circles' (or 'friends lists') from Facebook. Facebook data was collected from survey participants using this Facebook app. The dataset includes node features (profiles), circles, and ego networks.\n",
    "\n",
    "http://snap.stanford.edu/data/egonets-Facebook.html"
   ]
  },
  {
   "cell_type": "code",
   "execution_count": 52,
   "metadata": {
    "collapsed": false
   },
   "outputs": [],
   "source": [
    "#setup\n",
    "from graph_tool.all import * \n",
    "import numpy as np\n",
    "import math\n",
    "import time\n",
    "\n",
    "file_path = \"/home/jawa/Datasets/facebook_combined.txt\""
   ]
  },
  {
   "cell_type": "code",
   "execution_count": 4,
   "metadata": {
    "collapsed": false
   },
   "outputs": [],
   "source": [
    "# initialization\n",
    "g = Graph(directed=True)\n",
    "\n",
    "neighbours = {}\n",
    "vertex_id = {}\n",
    "\n",
    "#this time, we watn to add a edge in each direction for running pagerank and other centrality metrics\n",
    "\n",
    "with open(file_path, encoding=\"UTF-8\") as f:\n",
    "    for line in f:\n",
    "        if line.startswith(\"#\"):\n",
    "            continue\n",
    "        l = line.replace(\"\\n\", \"\").split(\" \")\n",
    "        a = l[0]\n",
    "        b = l[1]\n",
    "        if a not in neighbours:\n",
    "            neighbours[a] = []\n",
    "        if b not in neighbours:\n",
    "            neighbours[b] = []\n",
    "        # see if we have been here before\n",
    "        if a in neighbours[b]:\n",
    "            continue\n",
    "        if b in neighbours[a]:\n",
    "            continue\n",
    "        # add to our check lists\n",
    "        neighbours[a].append(b)\n",
    "        neighbours[b].append(a)\n",
    "        # get the vertexes\n",
    "        if a not in vertex_id:\n",
    "            v_a = g.add_vertex()\n",
    "            vertex_id[g.vertex_index[v_a]] = a\n",
    "        else:\n",
    "            v_a = g.vertex(vertex_id[a])\n",
    "        if b not in vertex_id:\n",
    "            v_b = g.add_vertex()\n",
    "            vertex_id[g.vertex_index[v_b]] = b\n",
    "        else:\n",
    "            v_b = g.vertex(vertex_id[b])\n",
    "        # add the edges\n",
    "        g.add_edge(v_a, v_b)\n",
    "        g.add_edge(v_b, v_a)\n",
    "    "
   ]
  },
  {
   "cell_type": "code",
   "execution_count": 5,
   "metadata": {
    "collapsed": false
   },
   "outputs": [
    {
     "name": "stdout",
     "output_type": "stream",
     "text": [
      "Out degree stats -> max value = 1045 / min value = 1 / average = 43.6910126269 / SV = 52.4141155674\n"
     ]
    }
   ],
   "source": [
    "# degree stats\n",
    "degrre_data = {}\n",
    "degrre_data[\"out\"] = []\n",
    "degrre_data[\"in\"] = []\n",
    "counter = 0\n",
    "for v in g.vertices():\n",
    "        counter += 1\n",
    "        degrre_data[\"out\"].append(v.out_degree())\n",
    "        degrre_data[\"in\"].append(v.in_degree())\n",
    "    \n",
    "max_out = max(degrre_data[\"out\"])\n",
    "min_out = min(degrre_data[\"out\"])\n",
    "average_out = np.average(degrre_data[\"out\"])\n",
    "sd_out = np.std(degrre_data[\"out\"])\n",
    "print(\"Out degree stats -> max value = \" + str(max_out) + \" / min value = \" + str(min_out) + \" / average = \" + str(average_out) + \" / SV = \" + str(sd_out))"
   ]
  },
  {
   "cell_type": "code",
   "execution_count": 6,
   "metadata": {
    "collapsed": false
   },
   "outputs": [
    {
     "name": "stdout",
     "output_type": "stream",
     "text": [
      "Diameter = (8.0, (<Vertex object with index '1946' at 0x7f003c0aa4f8>, <Vertex object with index '4035' at 0x7f003c0aa5e8>))\n"
     ]
    }
   ],
   "source": [
    "# distance stats\n",
    "#shortest_distance = graph_tool.topology.shortest_distance(g)\n",
    "#global_avg = []\n",
    "#for dist in shortest_distance:\n",
    "#    global_avg.append(np.average(dist))\n",
    "pseudo_diameter = graph_tool.topology.pseudo_diameter(g)\n",
    "\n",
    "# there are non connect components in the graph, so we cant just calculate the avverage shortest distance\n",
    "#print(\"Shortest Distance Average = \" + str(np.average(global_avg)) + \" / Diameter = \" + str(pseudo_diameter))\n",
    "print(\"Diameter = \" + str(pseudo_diameter))"
   ]
  },
  {
   "cell_type": "code",
   "execution_count": 7,
   "metadata": {
    "collapsed": false
   },
   "outputs": [
    {
     "name": "stdout",
     "output_type": "stream",
     "text": [
      "Clustering Average = 0.276944221307 / Clustering SV = 0.239782733359\n"
     ]
    }
   ],
   "source": [
    "# clustering stats\n",
    "global_clustering = graph_tool.clustering.global_clustering(g)\n",
    "\n",
    "print (\"Clustering Average = \" + str(np.average(global_clustering)) + \" / \" + \"Clustering SV = \" + str(np.std(global_clustering)))"
   ]
  },
  {
   "cell_type": "code",
   "execution_count": 8,
   "metadata": {
    "collapsed": false
   },
   "outputs": [
    {
     "name": "stdout",
     "output_type": "stream",
     "text": [
      "Connected components = 1 / Edges in Largest component = 176468 / Vertices in Largest component = 4039\n"
     ]
    }
   ],
   "source": [
    "# connected componet stats\n",
    "comp, hist = label_components(g)\n",
    "\n",
    "labels = list(set(comp.a))\n",
    "largest = label_largest_component(g)\n",
    "l = GraphView(g, vfilt=largest)\n",
    "\n",
    "print(\"Connected components = \" + str(len(labels)) + \" / Edges in Largest component = \" + str(l.num_edges()) + \" / Vertices in Largest component = \" + str(l.num_vertices()))"
   ]
  },
  {
   "cell_type": "code",
   "execution_count": 76,
   "metadata": {
    "collapsed": false
   },
   "outputs": [
    {
     "name": "stdout",
     "output_type": "stream",
     "text": [
      "Time Taken: 2.9755263328552246s\n",
      "Closeness stats -> max value = 0.459699453552 / min value = 0.178254535823 / average = 0.276167763567 / SV = 0.0361196038432\n"
     ]
    }
   ],
   "source": [
    "start = time.time()\n",
    "# vertex closeness stats\n",
    "g_closeness = closeness(g)\n",
    "c_list = []\n",
    "for vc in g_closeness.a:\n",
    "    if not math.isnan(vc):\n",
    "        c_list.append(vc)\n",
    "\n",
    "end = time.time()\n",
    "print(\"Time Taken: \" + str(end - start) +\"s\")\n",
    "print(\"Closeness stats -> max value = \" + str(max(c_list)) + \" / min value = \" + str(min(c_list)) + \" / average = \" + str(np.average(c_list)) + \" / SV = \" + str(np.std(c_list)))\n",
    "\n",
    "closeness_dic   = {}\n",
    "zero_closeness = 0\n",
    "for i in range(0, len(g_closeness.a)):\n",
    "    if (g.vertex(i).out_degree() != 0):\n",
    "        closeness_dic[g.vertex_index[i]] = g_closeness.a[i]\n",
    "    else:\n",
    "        zero_closeness += 1"
   ]
  },
  {
   "cell_type": "code",
   "execution_count": 78,
   "metadata": {
    "collapsed": false,
    "scrolled": true
   },
   "outputs": [
    {
     "name": "stdout",
     "output_type": "stream",
     "text": [
      "Time Taken: 2.356295108795166s\n",
      "Betweenness stats -> max value = 0.48051807855601614 / min value = 0.0 / average = 0.000666957356873 / SV = 0.011644899732\n"
     ]
    }
   ],
   "source": [
    "# betweenness stats\n",
    "start=time.time()\n",
    "g_betweenness, edge_betweenness = betweenness(g)\n",
    "v_b = list(g_betweenness)\n",
    "end = time.time()\n",
    "print(\"Time Taken: \" + str(end - start) +\"s\")\n",
    "print(\"Betweenness stats -> max value = \" + str(max(v_b)) + \" / min value = \" + str(min(v_b)) + \" / average = \" + str(np.average(v_b)) + \" / SV = \" + str(np.std(v_b)))\n",
    "\n",
    "betweenness_dic   = {}\n",
    "zero_betweenness = 0\n",
    "for i in range(0, len(g_betweenness.a)):\n",
    "    if (g.vertex(i).out_degree() != 0):\n",
    "        betweenness_dic[g.vertex_index[i]] = g_betweenness.a[i]\n",
    "    else:\n",
    "        zero_betweenness += 1"
   ]
  },
  {
   "cell_type": "code",
   "execution_count": 63,
   "metadata": {
    "collapsed": false
   },
   "outputs": [
    {
     "name": "stdout",
     "output_type": "stream",
     "text": [
      "Time Taken: 0.07590341567993164s\n"
     ]
    }
   ],
   "source": [
    "start=time.time()\n",
    "# degree centrality metrics\n",
    "out_dic = {}\n",
    "in_dic  = {}\n",
    "zero_out = 0\n",
    "zero_in  = 0\n",
    "v_num = len(vertex_id.keys())\n",
    "for v in g.vertices():\n",
    "    if (v.out_degree() == 0):\n",
    "        zero_out += 1\n",
    "    else:\n",
    "        out_dic[g.vertex_index[v]] = 1.0* v.out_degree() / (v_num - 1)\n",
    "    if (v.in_degree() == 0):\n",
    "        zero_in += 1\n",
    "    else:\n",
    "        in_dic[g.vertex_index[v]]  = v.in_degree() / (v_num - 1)\n",
    "end = time.time()\n",
    "print(\"Time Taken: \" + str(end - start) +\"s\")"
   ]
  },
  {
   "cell_type": "code",
   "execution_count": 64,
   "metadata": {
    "collapsed": false
   },
   "outputs": [
    {
     "name": "stderr",
     "output_type": "stream",
     "text": [
      "/usr/lib/python3/dist-packages/graph_tool/centrality/__init__.py:765: RuntimeWarning: invalid value encountered in true_divide\n",
      "  vprop.fa = vprop.fa / numpy.linalg.norm(vprop.fa)\n"
     ]
    },
    {
     "name": "stdout",
     "output_type": "stream",
     "text": [
      "Time Taken: 0.6936609745025635s\n"
     ]
    }
   ],
   "source": [
    "start=time.time()\n",
    "# katz\n",
    "g_katz = graph_tool.all.katz(g)\n",
    "katz_dic = {}\n",
    "for i in range(0, len(g_katz.a)):\n",
    "    katz_dic[g.vertex_index[i]] = g_katz.a[i]\n",
    "end = time.time()\n",
    "print(\"Time Taken: \" + str(end - start) +\"s\")"
   ]
  },
  {
   "cell_type": "code",
   "execution_count": 65,
   "metadata": {
    "collapsed": false
   },
   "outputs": [
    {
     "name": "stdout",
     "output_type": "stream",
     "text": [
      "Time Taken: 0.3708486557006836s\n"
     ]
    }
   ],
   "source": [
    "start=time.time()\n",
    "# pagerank\n",
    "g_pagerank = pagerank(g)\n",
    "pagerank_dic = {}\n",
    "for i in range(0, len(g_pagerank.a)):\n",
    "    pagerank_dic[g.vertex_index[i]] = g_pagerank.a[i]\n",
    "end = time.time()\n",
    "print(\"Time Taken: \" + str(end - start) +\"s\")"
   ]
  },
  {
   "cell_type": "code",
   "execution_count": 80,
   "metadata": {
    "collapsed": false
   },
   "outputs": [
    {
     "name": "stdout",
     "output_type": "stream",
     "text": [
      "Degree centrality (IN)\n",
      "Total zeros: 0\n",
      "Most central:\n",
      "[(3044, 0.047795938583457154), (876, 0.047795938583457154), (3135, 0.04804358593363051), (3443, 0.048291233283803865), (1289, 0.048291233283803865), (3159, 0.048291233283803865), (3053, 0.048291233283803865), (3441, 0.04853888063397722), (2167, 0.04853888063397722), (3431, 0.04878652798415057)]\n",
      "Least central:\n",
      "[(3335, 0.00024764735017335313), (3730, 0.00024764735017335313), (3195, 0.00024764735017335313), (3603, 0.00024764735017335313), (3495, 0.00024764735017335313), (3415, 0.00024764735017335313), (3497, 0.00024764735017335313), (3435, 0.00024764735017335313), (3676, 0.00024764735017335313), (3342, 0.00024764735017335313)]\n",
      "====================================================================================================\n",
      "Degree centrality (OUT)\n",
      "Total zeros: 0\n",
      "Most central:\n",
      "[(1312, 0.04977711738484398), (3175, 0.04977711738484398), (3370, 0.04977711738484398), (3407, 0.04977711738484398), (3338, 0.05002476473501734), (1231, 0.05002476473501734), (3096, 0.05027241208519069), (3002, 0.05027241208519069), (3058, 0.05052005943536404), (3157, 0.050767706785537395)]\n",
      "Least central:\n",
      "[(1776, 0.00024764735017335313), (1808, 0.00024764735017335313), (1763, 0.00024764735017335313), (1764, 0.00024764735017335313), (2021, 0.00024764735017335313), (1767, 0.00024764735017335313), (1812, 0.00024764735017335313), (1786, 0.00024764735017335313), (1837, 0.00024764735017335313), (1946, 0.00024764735017335313)]\n",
      "====================================================================================================\n",
      "Betweenness\n",
      "Total zeros: 0\n",
      "Most central:\n",
      "[(1827, 0.02482003363624553), (136, 0.026870359787397827), (1754, 0.028803198163516588), (1831, 0.0297218983751199), (1203, 0.037342870677961625), (348, 0.037998097480918674), (1063, 0.039784705029371134), (349, 0.047633372971724305), (2006, 0.057825906870913921), (371, 0.062780228472408495)]\n",
      "Least central:\n",
      "[(52, 0.0), (78, 0.0), (70, 0.0), (71, 0.0), (76, 0.0), (74, 0.0), (47, 0.0), (44, 0.0), (46, 0.0), (63, 0.0)]\n",
      "====================================================================================================\n",
      "Closeness\n",
      "Total zeros: 0\n",
      "Most central:\n",
      "[(571, 0.35785182559376105), (364, 0.3610192221725525), (381, 0.36228243315987801), (657, 0.36244502288843011), (359, 0.36309684380900997), (367, 0.36316215487004228), (1020, 0.36460496613995486), (1152, 0.36470375722543352), (372, 0.36496746203904556), (365, 0.36619207400018133)]\n",
      "Least central:\n",
      "[(1999, 0.17827027504304446), (2000, 0.17827814569536424), (1862, 0.17827814569536424), (1997, 0.17827814569536424), (1933, 0.17827814569536424), (1902, 0.17827814569536424), (1935, 0.17827814569536424), (1947, 0.17828601704269503), (1977, 0.17828601704269503), (1849, 0.17828601704269503)]\n",
      "====================================================================================================\n",
      "Katz\n",
      "\n",
      "Most central:\n",
      "[(0, 0.0), (16, 0.0), (2, 0.0), (4, 0.0), (6, 0.0), (8, 0.0), (10, 0.0), (12, 0.0), (18, 0.0), (14, 0.0)]\n",
      "Least central:\n",
      "[(19, 0.0), (1, 0.0), (3, 0.0), (17, 0.0), (5, 0.0), (7, 0.0), (9, 0.0), (11, 0.0), (13, 0.0), (15, 0.0)]\n",
      "====================================================================================================\n",
      "PageRank\n",
      "\n",
      "Most central:\n",
      "[(366, 0.0012941727203153062), (349, 0.0017822993555508973), (1827, 0.0021565646588924264), (1831, 0.0022167922610718898), (348, 0.0023173772202454406), (352, 0.0038165502203279431), (0, 0.0062247269671048041), (351, 0.006308495811035336), (107, 0.006888366974968794), (1821, 0.0075745821365592715)]\n",
      "Least central:\n",
      "[(3415, 4.1434684223997139e-05), (3139, 4.1434684223997139e-05), (3335, 4.1434684223997139e-05), (3435, 4.1434684223997139e-05), (3195, 4.1434684223997139e-05), (3342, 4.1434684223997139e-05), (3059, 4.1434684223997139e-05), (404, 4.2740882030328814e-05), (582, 4.2740882030328814e-05), (397, 4.2740882030328814e-05)]\n",
      "====================================================================================================\n"
     ]
    }
   ],
   "source": [
    "# print centrality metrics\n",
    "def topTen(metric_name, dic, string=\"\"):\n",
    "    most = {}\n",
    "    less = {}\n",
    "    for i in range(0, 10):\n",
    "        # +\n",
    "        n = max(dic, key=dic.get)\n",
    "        most[n] = dic[n]\n",
    "        del dic[n]\n",
    "        # -\n",
    "        n = min(dic, key=dic.get)\n",
    "        less[n] = dic[n]\n",
    "        del dic[n]    \n",
    "    print(metric_name)\n",
    "    print(string)\n",
    "    print(\"Most central:\")\n",
    "    print(sorted(most.items(), key=lambda x: x[1]))\n",
    "    print(\"Least central:\")\n",
    "    print(sorted(less.items(), key=lambda x: x[1]))\n",
    "    print(\"=\"*100)\n",
    "    \n",
    "topTen(\"Degree centrality (IN)\", in_dic, \"Total zeros: \"+str(zero_in))\n",
    "topTen(\"Degree centrality (OUT)\", out_dic, \"Total zeros: \"+str(zero_out))\n",
    "topTen(\"Betweenness\", betweenness_dic, \"Total zeros: \"+str(zero_betweenness))\n",
    "topTen(\"Closeness\", closeness_dic, \"Total zeros: \"+str(zero_closeness))\n",
    "topTen(\"Katz\", katz_dic)\n",
    "topTen(\"PageRank\", pagerank_dic)"
   ]
  }
 ],
 "metadata": {
  "kernelspec": {
   "display_name": "Python 3",
   "language": "python",
   "name": "python3"
  },
  "language_info": {
   "codemirror_mode": {
    "name": "ipython",
    "version": 3
   },
   "file_extension": ".py",
   "mimetype": "text/x-python",
   "name": "python",
   "nbconvert_exporter": "python",
   "pygments_lexer": "ipython3",
   "version": "3.4.3"
  }
 },
 "nbformat": 4,
 "nbformat_minor": 0
}

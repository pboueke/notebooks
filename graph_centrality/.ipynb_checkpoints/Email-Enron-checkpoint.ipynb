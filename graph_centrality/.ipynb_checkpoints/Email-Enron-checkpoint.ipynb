{
 "cells": [
  {
   "cell_type": "markdown",
   "metadata": {},
   "source": [
    "### This dataset consists of 'circles' (or 'friends lists') from Facebook. Facebook data was collected from survey participants using this Facebook app. The dataset includes node features (profiles), circles, and ego networks.\n",
    "\n",
    "http://snap.stanford.edu/data/egonets-Facebook.html"
   ]
  },
  {
   "cell_type": "code",
   "execution_count": 1,
   "metadata": {
    "collapsed": false
   },
   "outputs": [],
   "source": [
    "#setup\n",
    "from graph_tool.all import * \n",
    "import numpy as np\n",
    "import math\n",
    "import time\n",
    "\n",
    "file_path = \"/home/jawa/Datasets/Email-Enron.txt\""
   ]
  },
  {
   "cell_type": "code",
   "execution_count": 2,
   "metadata": {
    "collapsed": false
   },
   "outputs": [],
   "source": [
    "# initialization\n",
    "g = Graph(directed=True)\n",
    "\n",
    "neighbours = {}\n",
    "vertex_id = {}\n",
    "\n",
    "#this time, we watn to add a edge in each direction for running pagerank and other centrality metrics\n",
    "\n",
    "with open(file_path, encoding=\"UTF-8\") as f:\n",
    "    for line in f:\n",
    "        if line.startswith(\"#\"):\n",
    "            continue\n",
    "        l = line.replace(\"\\n\", \"\").split(\"\\t\")\n",
    "        a = l[0]\n",
    "        b = l[1]\n",
    "        if a not in neighbours:\n",
    "            neighbours[a] = []\n",
    "        if b not in neighbours:\n",
    "            neighbours[b] = []\n",
    "        # see if we have been here before\n",
    "        if a in neighbours[b]:\n",
    "            continue\n",
    "        if b in neighbours[a]:\n",
    "            continue\n",
    "        # add to our check lists\n",
    "        neighbours[a].append(b)\n",
    "        neighbours[b].append(a)\n",
    "        # get the vertexes\n",
    "        if a not in vertex_id:\n",
    "            v_a = g.add_vertex()\n",
    "            vertex_id[g.vertex_index[v_a]] = a\n",
    "        else:\n",
    "            v_a = g.vertex(vertex_id[a])\n",
    "        if b not in vertex_id:\n",
    "            v_b = g.add_vertex()\n",
    "            vertex_id[g.vertex_index[v_b]] = b\n",
    "        else:\n",
    "            v_b = g.vertex(vertex_id[b])\n",
    "        # add the edges\n",
    "        g.add_edge(v_a, v_b)\n",
    "        g.add_edge(v_b, v_a)\n",
    "    "
   ]
  },
  {
   "cell_type": "code",
   "execution_count": 3,
   "metadata": {
    "collapsed": false
   },
   "outputs": [
    {
     "name": "stdout",
     "output_type": "stream",
     "text": [
      "Out degree stats -> max value = 1 / min value = 1 / average = 1.0 / SV = 0.0\n"
     ]
    }
   ],
   "source": [
    "# degree stats\n",
    "degrre_data = {}\n",
    "degrre_data[\"out\"] = []\n",
    "degrre_data[\"in\"] = []\n",
    "counter = 0\n",
    "for v in g.vertices():\n",
    "        counter += 1\n",
    "        degrre_data[\"out\"].append(v.out_degree())\n",
    "        degrre_data[\"in\"].append(v.in_degree())\n",
    "    \n",
    "max_out = max(degrre_data[\"out\"])\n",
    "min_out = min(degrre_data[\"out\"])\n",
    "average_out = np.average(degrre_data[\"out\"])\n",
    "sd_out = np.std(degrre_data[\"out\"])\n",
    "print(\"Out degree stats -> max value = \" + str(max_out) + \" / min value = \" + str(min_out) + \" / average = \" + str(average_out) + \" / SV = \" + str(sd_out))"
   ]
  },
  {
   "cell_type": "code",
   "execution_count": 4,
   "metadata": {
    "collapsed": false
   },
   "outputs": [
    {
     "name": "stdout",
     "output_type": "stream",
     "text": [
      "Diameter = (1.0, (<Vertex object with index '0' at 0x7fcd302c14f8>, <Vertex object with index '1' at 0x7fcd302c1840>))\n"
     ]
    }
   ],
   "source": [
    "# distance stats\n",
    "#shortest_distance = graph_tool.topology.shortest_distance(g)\n",
    "#global_avg = []\n",
    "#for dist in shortest_distance:\n",
    "#    global_avg.append(np.average(dist))\n",
    "pseudo_diameter = graph_tool.topology.pseudo_diameter(g)\n",
    "\n",
    "# there are non connect components in the graph, so we cant just calculate the avverage shortest distance\n",
    "#print(\"Shortest Distance Average = \" + str(np.average(global_avg)) + \" / Diameter = \" + str(pseudo_diameter))\n",
    "print(\"Diameter = \" + str(pseudo_diameter))"
   ]
  },
  {
   "cell_type": "code",
   "execution_count": 5,
   "metadata": {
    "collapsed": false
   },
   "outputs": [
    {
     "name": "stdout",
     "output_type": "stream",
     "text": [
      "Clustering Average = 0.0 / Clustering SV = 0.0\n"
     ]
    }
   ],
   "source": [
    "# clustering stats\n",
    "global_clustering = graph_tool.clustering.global_clustering(g)\n",
    "\n",
    "print (\"Clustering Average = \" + str(np.average(global_clustering)) + \" / \" + \"Clustering SV = \" + str(np.std(global_clustering)))"
   ]
  },
  {
   "cell_type": "code",
   "execution_count": 6,
   "metadata": {
    "collapsed": false
   },
   "outputs": [
    {
     "name": "stdout",
     "output_type": "stream",
     "text": [
      "Connected components = 183831 / Edges in Largest component = 2 / Vertices in Largest component = 2\n"
     ]
    }
   ],
   "source": [
    "# connected componet stats\n",
    "comp, hist = label_components(g)\n",
    "\n",
    "labels = list(set(comp.a))\n",
    "largest = label_largest_component(g)\n",
    "l = GraphView(g, vfilt=largest)\n",
    "\n",
    "print(\"Connected components = \" + str(len(labels)) + \" / Edges in Largest component = \" + str(l.num_edges()) + \" / Vertices in Largest component = \" + str(l.num_vertices()))"
   ]
  },
  {
   "cell_type": "code",
   "execution_count": 7,
   "metadata": {
    "collapsed": false
   },
   "outputs": [
    {
     "name": "stdout",
     "output_type": "stream",
     "text": [
      "Time Taken: 265.1480493545532s\n",
      "Closeness stats -> max value = 1.0 / min value = 1.0 / average = 1.0 / SV = 0.0\n"
     ]
    }
   ],
   "source": [
    "start = time.time()\n",
    "# vertex closeness stats\n",
    "g_closeness = closeness(g)\n",
    "c_list = []\n",
    "for vc in g_closeness.a:\n",
    "    if not math.isnan(vc):\n",
    "        c_list.append(vc)\n",
    "\n",
    "end = time.time()\n",
    "print(\"Time Taken: \" + str(end - start) +\"s\")\n",
    "print(\"Closeness stats -> max value = \" + str(max(c_list)) + \" / min value = \" + str(min(c_list)) + \" / average = \" + str(np.average(c_list)) + \" / SV = \" + str(np.std(c_list)))\n",
    "\n",
    "closeness_dic   = {}\n",
    "zero_closeness = 0\n",
    "for i in range(0, len(g_closeness.a)):\n",
    "    if (g.vertex(i).out_degree() != 0):\n",
    "        closeness_dic[g.vertex_index[i]] = g_closeness.a[i]\n",
    "    else:\n",
    "        zero_closeness += 1"
   ]
  },
  {
   "cell_type": "code",
   "execution_count": 8,
   "metadata": {
    "collapsed": false,
    "scrolled": true
   },
   "outputs": [
    {
     "name": "stdout",
     "output_type": "stream",
     "text": [
      "Time Taken: 618.121927022934s\n",
      "Betweenness stats -> max value = 0.0 / min value = 0.0 / average = 0.0 / SV = 0.0\n"
     ]
    }
   ],
   "source": [
    "# betweenness stats\n",
    "start=time.time()\n",
    "g_betweenness, edge_betweenness = betweenness(g)\n",
    "v_b = list(g_betweenness)\n",
    "end = time.time()\n",
    "print(\"Time Taken: \" + str(end - start) +\"s\")\n",
    "print(\"Betweenness stats -> max value = \" + str(max(v_b)) + \" / min value = \" + str(min(v_b)) + \" / average = \" + str(np.average(v_b)) + \" / SV = \" + str(np.std(v_b)))\n",
    "\n",
    "betweenness_dic   = {}\n",
    "zero_betweenness = 0\n",
    "for i in range(0, len(g_betweenness.a)):\n",
    "    if (g.vertex(i).out_degree() != 0):\n",
    "        betweenness_dic[g.vertex_index[i]] = g_betweenness.a[i]\n",
    "    else:\n",
    "        zero_betweenness += 1"
   ]
  },
  {
   "cell_type": "code",
   "execution_count": 9,
   "metadata": {
    "collapsed": false
   },
   "outputs": [
    {
     "name": "stdout",
     "output_type": "stream",
     "text": [
      "Time Taken: 6.157048225402832s\n"
     ]
    }
   ],
   "source": [
    "start=time.time()\n",
    "# degree centrality metrics\n",
    "out_dic = {}\n",
    "in_dic  = {}\n",
    "zero_out = 0\n",
    "zero_in  = 0\n",
    "v_num = len(vertex_id.keys())\n",
    "for v in g.vertices():\n",
    "    if (v.out_degree() == 0):\n",
    "        zero_out += 1\n",
    "    else:\n",
    "        out_dic[g.vertex_index[v]] = 1.0* v.out_degree() / (v_num - 1)\n",
    "    if (v.in_degree() == 0):\n",
    "        zero_in += 1\n",
    "    else:\n",
    "        in_dic[g.vertex_index[v]]  = v.in_degree() / (v_num - 1)\n",
    "end = time.time()\n",
    "print(\"Time Taken: \" + str(end - start) +\"s\")"
   ]
  },
  {
   "cell_type": "code",
   "execution_count": 10,
   "metadata": {
    "collapsed": false
   },
   "outputs": [
    {
     "name": "stdout",
     "output_type": "stream",
     "text": [
      "Time Taken: 26.518951416015625s\n"
     ]
    }
   ],
   "source": [
    "start=time.time()\n",
    "# katz\n",
    "g_katz = graph_tool.all.katz(g)\n",
    "katz_dic = {}\n",
    "for i in range(0, len(g_katz.a)):\n",
    "    katz_dic[g.vertex_index[i]] = g_katz.a[i]\n",
    "end = time.time()\n",
    "print(\"Time Taken: \" + str(end - start) +\"s\")"
   ]
  },
  {
   "cell_type": "code",
   "execution_count": 11,
   "metadata": {
    "collapsed": false
   },
   "outputs": [
    {
     "name": "stdout",
     "output_type": "stream",
     "text": [
      "Time Taken: 26.58941674232483s\n"
     ]
    }
   ],
   "source": [
    "start=time.time()\n",
    "# pagerank\n",
    "g_pagerank = pagerank(g)\n",
    "pagerank_dic = {}\n",
    "for i in range(0, len(g_pagerank.a)):\n",
    "    pagerank_dic[g.vertex_index[i]] = g_pagerank.a[i]\n",
    "end = time.time()\n",
    "print(\"Time Taken: \" + str(end - start) +\"s\")"
   ]
  },
  {
   "cell_type": "code",
   "execution_count": 12,
   "metadata": {
    "collapsed": false
   },
   "outputs": [
    {
     "name": "stdout",
     "output_type": "stream",
     "text": [
      "Degree centrality (IN)\n",
      "Total zeros: 0\n",
      "Most central:\n",
      "[(0, 2.7198968615110115e-06), (16, 2.7198968615110115e-06), (2, 2.7198968615110115e-06), (4, 2.7198968615110115e-06), (6, 2.7198968615110115e-06), (8, 2.7198968615110115e-06), (10, 2.7198968615110115e-06), (12, 2.7198968615110115e-06), (18, 2.7198968615110115e-06), (14, 2.7198968615110115e-06)]\n",
      "Least central:\n",
      "[(19, 2.7198968615110115e-06), (1, 2.7198968615110115e-06), (3, 2.7198968615110115e-06), (17, 2.7198968615110115e-06), (5, 2.7198968615110115e-06), (7, 2.7198968615110115e-06), (9, 2.7198968615110115e-06), (11, 2.7198968615110115e-06), (13, 2.7198968615110115e-06), (15, 2.7198968615110115e-06)]\n",
      "====================================================================================================\n",
      "Degree centrality (OUT)\n",
      "Total zeros: 0\n",
      "Most central:\n",
      "[(0, 2.7198968615110115e-06), (16, 2.7198968615110115e-06), (2, 2.7198968615110115e-06), (4, 2.7198968615110115e-06), (6, 2.7198968615110115e-06), (8, 2.7198968615110115e-06), (10, 2.7198968615110115e-06), (12, 2.7198968615110115e-06), (18, 2.7198968615110115e-06), (14, 2.7198968615110115e-06)]\n",
      "Least central:\n",
      "[(19, 2.7198968615110115e-06), (1, 2.7198968615110115e-06), (3, 2.7198968615110115e-06), (17, 2.7198968615110115e-06), (5, 2.7198968615110115e-06), (7, 2.7198968615110115e-06), (9, 2.7198968615110115e-06), (11, 2.7198968615110115e-06), (13, 2.7198968615110115e-06), (15, 2.7198968615110115e-06)]\n",
      "====================================================================================================\n",
      "Betweenness\n",
      "Total zeros: 0\n",
      "Most central:\n",
      "[(0, 0.0), (16, 0.0), (2, 0.0), (4, 0.0), (6, 0.0), (8, 0.0), (10, 0.0), (12, 0.0), (18, 0.0), (14, 0.0)]\n",
      "Least central:\n",
      "[(19, 0.0), (1, 0.0), (3, 0.0), (17, 0.0), (5, 0.0), (7, 0.0), (9, 0.0), (11, 0.0), (13, 0.0), (15, 0.0)]\n",
      "====================================================================================================\n",
      "Closeness\n",
      "Total zeros: 0\n",
      "Most central:\n",
      "[(0, 1.0), (16, 1.0), (2, 1.0), (4, 1.0), (6, 1.0), (8, 1.0), (10, 1.0), (12, 1.0), (18, 1.0), (14, 1.0)]\n",
      "Least central:\n",
      "[(19, 1.0), (1, 1.0), (3, 1.0), (17, 1.0), (5, 1.0), (7, 1.0), (9, 1.0), (11, 1.0), (13, 1.0), (15, 1.0)]\n",
      "====================================================================================================\n",
      "Katz\n",
      "\n",
      "Most central:\n",
      "[(0, 0.001649208738666178), (16, 0.001649208738666178), (2, 0.001649208738666178), (4, 0.001649208738666178), (6, 0.001649208738666178), (8, 0.001649208738666178), (10, 0.001649208738666178), (12, 0.001649208738666178), (18, 0.001649208738666178), (14, 0.001649208738666178)]\n",
      "Least central:\n",
      "[(19, 0.001649208738666178), (1, 0.001649208738666178), (3, 0.001649208738666178), (17, 0.001649208738666178), (5, 0.001649208738666178), (7, 0.001649208738666178), (9, 0.001649208738666178), (11, 0.001649208738666178), (13, 0.001649208738666178), (15, 0.001649208738666178)]\n",
      "====================================================================================================\n",
      "PageRank\n",
      "\n",
      "Most central:\n",
      "[(0, 2.7198894636921957e-06), (16, 2.7198894636921957e-06), (2, 2.7198894636921957e-06), (4, 2.7198894636921957e-06), (6, 2.7198894636921957e-06), (8, 2.7198894636921957e-06), (10, 2.7198894636921957e-06), (12, 2.7198894636921957e-06), (18, 2.7198894636921957e-06), (14, 2.7198894636921957e-06)]\n",
      "Least central:\n",
      "[(19, 2.7198894636921957e-06), (1, 2.7198894636921957e-06), (3, 2.7198894636921957e-06), (17, 2.7198894636921957e-06), (5, 2.7198894636921957e-06), (7, 2.7198894636921957e-06), (9, 2.7198894636921957e-06), (11, 2.7198894636921957e-06), (13, 2.7198894636921957e-06), (15, 2.7198894636921957e-06)]\n",
      "====================================================================================================\n"
     ]
    }
   ],
   "source": [
    "# print centrality metrics\n",
    "def topTen(metric_name, dic, string=\"\"):\n",
    "    most = {}\n",
    "    less = {}\n",
    "    for i in range(0, 10):\n",
    "        # +\n",
    "        n = max(dic, key=dic.get)\n",
    "        most[n] = dic[n]\n",
    "        del dic[n]\n",
    "        # -\n",
    "        n = min(dic, key=dic.get)\n",
    "        less[n] = dic[n]\n",
    "        del dic[n]    \n",
    "    print(metric_name)\n",
    "    print(string)\n",
    "    print(\"Most central:\")\n",
    "    print(sorted(most.items(), key=lambda x: x[1]))\n",
    "    print(\"Least central:\")\n",
    "    print(sorted(less.items(), key=lambda x: x[1]))\n",
    "    print(\"=\"*100)\n",
    "    \n",
    "topTen(\"Degree centrality (IN)\", in_dic, \"Total zeros: \"+str(zero_in))\n",
    "topTen(\"Degree centrality (OUT)\", out_dic, \"Total zeros: \"+str(zero_out))\n",
    "topTen(\"Betweenness\", betweenness_dic, \"Total zeros: \"+str(zero_betweenness))\n",
    "topTen(\"Closeness\", closeness_dic, \"Total zeros: \"+str(zero_closeness))\n",
    "topTen(\"Katz\", katz_dic)\n",
    "topTen(\"PageRank\", pagerank_dic)"
   ]
  }
 ],
 "metadata": {
  "kernelspec": {
   "display_name": "Python 3",
   "language": "python",
   "name": "python3"
  },
  "language_info": {
   "codemirror_mode": {
    "name": "ipython",
    "version": 3
   },
   "file_extension": ".py",
   "mimetype": "text/x-python",
   "name": "python",
   "nbconvert_exporter": "python",
   "pygments_lexer": "ipython3",
   "version": "3.4.3"
  }
 },
 "nbformat": 4,
 "nbformat_minor": 0
}

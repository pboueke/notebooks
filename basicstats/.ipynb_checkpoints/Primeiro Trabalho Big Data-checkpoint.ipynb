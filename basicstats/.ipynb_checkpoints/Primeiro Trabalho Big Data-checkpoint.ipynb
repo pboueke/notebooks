{
 "cells": [
  {
   "cell_type": "markdown",
   "metadata": {},
   "source": [
    "# Nova Feature para um Site\n",
    "\n",
    "* Um portal de notícias implementou um play automático de vídeos em suas páginas, visando manter seus usuários por mais tempo no site.\n",
    "* Analise os dados históricos contendo os acessos do último mês, e mostre se houve um aumento significativo de tempo de navegação após a implementação da feature.\n",
    "* Arquivos: \n",
    "  * Populacao_tempo.csv\n",
    "  * Amostra_tempo.csv\n",
    "*  **Sabendo que o custo por visualização desse play é de 0.005 centavos, e que cada minuto adicional de navegação gera em média 5 centavos de lucro, defina se essa nova feature deve ser mantida ou não.**\n"
   ]
  },
  {
   "cell_type": "code",
   "execution_count": 39,
   "metadata": {
    "collapsed": false
   },
   "outputs": [],
   "source": [
    "# setup\n",
    "import scipy as sp\n",
    "from scipy import stats\n",
    "\n",
    "import numpy as np\n",
    "\n",
    "import plotly.plotly as py\n",
    "import plotly.graph_objs as go\n",
    "import plotly.tools as tls\n",
    "\n",
    "py.sign_in('phboueke', '')"
   ]
  },
  {
   "cell_type": "code",
   "execution_count": 31,
   "metadata": {
    "collapsed": false
   },
   "outputs": [],
   "source": [
    "# loading data\n",
    "population = []\n",
    "sample = []\n",
    "\n",
    "with open('data/populacao_tempo.csv') as file:\n",
    "    file.readline()\n",
    "    for line in file:\n",
    "        time = float(line.split(';')[1][:-1])\n",
    "        population.append(time)\n",
    "\n",
    "        \n",
    "population = sp.array(population)\n",
    "popMean = sp.mean(population)\n",
    "popSd = sp.std(population)\n",
    "\n",
    "with open('data/amostra_tempo.csv') as file:\n",
    "    file.readline()\n",
    "    for line in file:\n",
    "        time = float(line.split(';')[1][:-1])\n",
    "        sample.append(time)\n",
    "\n",
    "sample = sp.array(sample)\n",
    "sampleMean = sp.mean(sample)"
   ]
  },
  {
   "cell_type": "markdown",
   "metadata": {},
   "source": [
    "Iremos fazer um teste de hipótese para descobrir se a feature deve ser mantida avaliando os tempos de permanência antes da alteração (population) e depois (sample). A hipótese que queremos decidir primeiramente é a de que a feature impactou nos tempos de uso do site."
   ]
  },
  {
   "cell_type": "code",
   "execution_count": 32,
   "metadata": {
    "collapsed": false
   },
   "outputs": [
    {
     "name": "stdout",
     "output_type": "stream",
     "text": [
      "Ttest_indResult(statistic=-23.325754825312675, pvalue=2.6163856353001462e-120)\n",
      "Mean diff: 1.47376129705\n"
     ]
    }
   ],
   "source": [
    "result = stats.ttest_ind(population, sample)\n",
    "print(result)\n",
    "mean_diff = sampleMean - popMean\n",
    "print(\"Mean diff: \" + str(mean_diff))"
   ]
  },
  {
   "cell_type": "markdown",
   "metadata": {},
   "source": [
    "O valor-p obtido nos permite rejeitar H0. Vamos agora calcular a viabilidade financeira da feature sabendo que ela impactou positivamente o tempo de permanencia médio no site."
   ]
  },
  {
   "cell_type": "code",
   "execution_count": 33,
   "metadata": {
    "collapsed": false
   },
   "outputs": [
    {
     "name": "stdout",
     "output_type": "stream",
     "text": [
      "0.0686880648525\n"
     ]
    }
   ],
   "source": [
    "income_min = 0.05\n",
    "cost_use = 0.005\n",
    "\n",
    "gain = (mean_diff * income_min) - cost_use\n",
    "\n",
    "print(gain)"
   ]
  },
  {
   "cell_type": "markdown",
   "metadata": {},
   "source": [
    "Ok. A feature deve ser mantida, visto que calculamos um valor de lucro esperado de quase 7 centavos! Além desse fato, podemos fazer um box plot para ter uma boa ideia da distribuição dos tempos antes e depois das mudanças."
   ]
  },
  {
   "cell_type": "code",
   "execution_count": 36,
   "metadata": {
    "collapsed": false
   },
   "outputs": [
    {
     "data": {
      "text/html": [
       "<iframe id=\"igraph\" scrolling=\"no\" style=\"border:none;\" seamless=\"seamless\" src=\"https://plot.ly/~phboueke/86.embed\" height=\"525\" width=\"100%\"></iframe>"
      ],
      "text/plain": [
       "<plotly.tools.PlotlyDisplay object>"
      ]
     },
     "execution_count": 36,
     "metadata": {},
     "output_type": "execute_result"
    }
   ],
   "source": [
    "popsample = np.random.choice(population, len(sample))\n",
    "\n",
    "before = go.Box(\n",
    "    y=popsample\n",
    ")\n",
    "after = go.Box(\n",
    "    y=sample\n",
    ")\n",
    "data = [before, after]\n",
    "#py.iplot(data)\n",
    "tls.embed(\"https://plot.ly/~phboueke/86/\") #use this to embed the graph at the static page"
   ]
  },
  {
   "cell_type": "markdown",
   "metadata": {},
   "source": [
    "# Clicks do Site\n",
    "\n",
    "* Uma métrica comum em sites de e-commerce é o número de clicks que um usuário efetua durante a navegação. Um grupo de marketing quer fazer uma campanha de um novo produto, entretanto não sabe se apresenta ele apenas na página ou como um pop-up, que toma a conta de toda a tela. Visando responder esse problema, dois grupos foram selecionados. Para o primeiro grupo, foi apresentado apenas a tela com o produto. Para o segundo, foi apresentado a tela com o pop-up.\n",
    "* Utilize técnicas estatísticas para informar se faz diferença utilizar o pop-up ou não.\n",
    "* Arquivos:\n",
    "  * amostra_A_click.csv\n",
    "  * amostra_B_click.csv\n"
   ]
  },
  {
   "cell_type": "code",
   "execution_count": 42,
   "metadata": {
    "collapsed": true
   },
   "outputs": [],
   "source": [
    "# loading data\n",
    "A = []\n",
    "B = []\n",
    "\n",
    "with open('data/amostra_A_click.csv') as file:\n",
    "    file.readline()\n",
    "    for line in file:\n",
    "        if \"y\" in line:\n",
    "            A.append(1)\n",
    "        else:\n",
    "            A.append(0)\n",
    "\n",
    "with open('data/amostra_B_click.csv') as file:\n",
    "    file.readline()\n",
    "    for line in file:\n",
    "        if \"y\" in line:\n",
    "            B.append(1)\n",
    "        else:\n",
    "            B.append(0)\n",
    "            \n",
    "A = sp.array(A)\n",
    "A_mean = sp.mean(A)\n",
    "B = sp.array(B)\n",
    "B_mean = sp.mean(B)"
   ]
  },
  {
   "cell_type": "code",
   "execution_count": 47,
   "metadata": {
    "collapsed": false
   },
   "outputs": [
    {
     "data": {
      "text/html": [
       "<iframe id=\"igraph\" scrolling=\"no\" style=\"border:none;\" seamless=\"seamless\" src=\"https://plot.ly/~phboueke/92.embed\" height=\"525\" width=\"100%\"></iframe>"
      ],
      "text/plain": [
       "<plotly.tools.PlotlyDisplay object>"
      ]
     },
     "execution_count": 47,
     "metadata": {},
     "output_type": "execute_result"
    }
   ],
   "source": [
    "# let's plot!\n",
    "\n",
    "trace0 = go.Bar(\n",
    "    x = [\"yes\", \"no\"],\n",
    "    y = [sum(A), len(A)-sum(A)],\n",
    "    name = \"A\",\n",
    ")\n",
    "trace1 = go.Bar(\n",
    "    x = [\"yes\", \"no\"],\n",
    "    y = [sum(B), len(B)-sum(B)],\n",
    "    name = \"B\",\n",
    ")\n",
    "\n",
    "data = [trace0, trace1]\n",
    "layout = go.Layout(\n",
    "    barmode='group'\n",
    ")\n",
    "\n",
    "fig = go.Figure(data=data, layout=layout)\n",
    "#py.iplot(fig)\n",
    "tls.embed(\"https://plot.ly/~phboueke/92/\")"
   ]
  },
  {
   "cell_type": "markdown",
   "metadata": {},
   "source": [
    "Sendo o dataset \"B\" aquele coletado utilizando popup, parece claro que o uso do popup aumentou o número de clicks no produto. Não obstante, faremos o teste da hipótese de que a utilização do popup resultou em diferenças entre os datasets."
   ]
  },
  {
   "cell_type": "code",
   "execution_count": 48,
   "metadata": {
    "collapsed": false
   },
   "outputs": [
    {
     "name": "stdout",
     "output_type": "stream",
     "text": [
      "Ttest_indResult(statistic=-3.6564760626262478, pvalue=0.00026234731820501704)\n",
      "A mean: 0.306205493388, B mean: 0.383928571429\n"
     ]
    }
   ],
   "source": [
    "result = stats.ttest_ind(A, B)\n",
    "print(result)\n",
    "print(\"A mean: \" + str(A_mean) + \", B mean: \" + str(B_mean))"
   ]
  },
  {
   "cell_type": "markdown",
   "metadata": {},
   "source": [
    "O valor-p obtido nos permite afirmar que a utilização do popup resultou em uma diferença estatisticamente significante. A vizualização, por sua vez, nos permite afirmar que essa diferença foi positiva em favor da utilização do popup. Podemos ver, também, por meio das médias calculadas, que os percentuais de clicks e \"não clicks\" em cada dataset."
   ]
  },
  {
   "cell_type": "code",
   "execution_count": null,
   "metadata": {
    "collapsed": true
   },
   "outputs": [],
   "source": []
  }
 ],
 "metadata": {
  "kernelspec": {
   "display_name": "Python 3",
   "language": "python",
   "name": "python3"
  },
  "language_info": {
   "codemirror_mode": {
    "name": "ipython",
    "version": 3
   },
   "file_extension": ".py",
   "mimetype": "text/x-python",
   "name": "python",
   "nbconvert_exporter": "python",
   "pygments_lexer": "ipython3",
   "version": "3.4.3"
  }
 },
 "nbformat": 4,
 "nbformat_minor": 0
}

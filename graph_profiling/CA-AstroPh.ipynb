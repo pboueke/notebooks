{
 "cells": [
  {
   "cell_type": "markdown",
   "metadata": {},
   "source": [
    "### Directed graph (each unordered pair of nodes is saved once): CA-AstroPh.txt \n",
    "### Collaboration network of Arxiv Astro Physics category (there is an edge if authors coauthored at least one paper)\n",
    "### Nodes: 18772 Edges: 396160"
   ]
  },
  {
   "cell_type": "code",
   "execution_count": 30,
   "metadata": {
    "collapsed": true
   },
   "outputs": [],
   "source": [
    "#setup\n",
    "from graph_tool.all import *\n",
    "import numpy as np\n",
    "\n",
    "file_path = \"/home/jawa/Datasets/CA-AstroPh.txt\""
   ]
  },
  {
   "cell_type": "code",
   "execution_count": 31,
   "metadata": {
    "collapsed": false
   },
   "outputs": [],
   "source": [
    "# initialization\n",
    "g = Graph(directed=False)\n",
    "\n",
    "neighbours = {}\n",
    "vertex_id = {}\n",
    "\n",
    "with open(file_path, encoding=\"UTF-8\") as f:\n",
    "    for line in f:\n",
    "        if line.startswith(\"#\"):\n",
    "            continue\n",
    "        l = line.replace(\"\\n\", \"\").split(\"\\t\")\n",
    "        a = l[0]\n",
    "        b = l[1]\n",
    "        if a not in neighbours:\n",
    "            neighbours[a] = []\n",
    "        if b not in neighbours:\n",
    "            neighbours[b] = []\n",
    "        # see if we have been here before\n",
    "        if a in neighbours[b]:\n",
    "            continue\n",
    "        if b in neighbours[a]:\n",
    "            continue\n",
    "        # add to our check lists\n",
    "        neighbours[a].append(b)\n",
    "        neighbours[b].append(a)\n",
    "        # get the vertexes\n",
    "        if a not in vertex_id:\n",
    "            v_a = g.add_vertex()\n",
    "            vertex_id[a] = g.vertex_index[v_a]\n",
    "        else:\n",
    "            v_a = g.vertex(vertex_id[a])\n",
    "        if b not in vertex_id:\n",
    "            v_b = g.add_vertex()\n",
    "            vertex_id[b] = g.vertex_index[v_b]\n",
    "        else:\n",
    "            v_b = g.vertex(vertex_id[b])\n",
    "        # add the edge\n",
    "        g.add_edge(v_a, v_b)\n",
    "    "
   ]
  },
  {
   "cell_type": "code",
   "execution_count": 32,
   "metadata": {
    "collapsed": false
   },
   "outputs": [
    {
     "name": "stdout",
     "output_type": "stream",
     "text": [
      "Out degree stats -> max value = 504 / min value = 1 / average = 21.1069678244 / SV = 30.5713415745\n"
     ]
    }
   ],
   "source": [
    "# degree stats\n",
    "degrre_data = {}\n",
    "degrre_data[\"out\"] = []\n",
    "degrre_data[\"in\"] = []\n",
    "counter = 0\n",
    "for v in g.vertices():\n",
    "        counter += 1\n",
    "        degrre_data[\"out\"].append(v.out_degree())\n",
    "        degrre_data[\"in\"].append(v.in_degree())\n",
    "    \n",
    "max_out = max(degrre_data[\"out\"])\n",
    "min_out = min(degrre_data[\"out\"])\n",
    "average_out = np.average(degrre_data[\"out\"])\n",
    "sd_out = np.std(degrre_data[\"out\"])\n",
    "print(\"Out degree stats -> max value = \" + str(max_out) + \" / min value = \" + str(min_out) + \" / average = \" + str(average_out) + \" / SV = \" + str(sd_out))"
   ]
  },
  {
   "cell_type": "code",
   "execution_count": 33,
   "metadata": {
    "collapsed": false
   },
   "outputs": [
    {
     "name": "stdout",
     "output_type": "stream",
     "text": [
      "Diameter = (14.0, (<Vertex object with index '18109' at 0x7f84ef5a7840>, <Vertex object with index '17810' at 0x7f84c8865de0>))\n"
     ]
    }
   ],
   "source": [
    "# distance stats\n",
    "#shortest_distance = graph_tool.topology.shortest_distance(g)\n",
    "#global_avg = []\n",
    "#for dist in shortest_distance:\n",
    "#    global_avg.append(np.average(dist))\n",
    "pseudo_diameter = graph_tool.topology.pseudo_diameter(g)\n",
    "\n",
    "# there are non connect components in the graph, so we cant just calculate the avverage shortest distance\n",
    "#print(\"Shortest Distance Average = \" + str(np.average(global_avg)) + \" / Diameter = \" + str(pseudo_diameter))\n",
    "print(\"Diameter = \" + str(pseudo_diameter))"
   ]
  },
  {
   "cell_type": "code",
   "execution_count": 37,
   "metadata": {
    "collapsed": false
   },
   "outputs": [
    {
     "name": "stdout",
     "output_type": "stream",
     "text": [
      "Clustering Average = 0.162088976764 / Clustering SV = 0.15575723869\n"
     ]
    }
   ],
   "source": [
    "# clustering stats\n",
    "global_clustering = graph_tool.clustering.global_clustering(g)\n",
    "\n",
    "print (\"Clustering Average = \" + str(np.average(global_clustering)) + \" / \" + \"Clustering SV = \" + str(np.std(global_clustering)))"
   ]
  },
  {
   "cell_type": "code",
   "execution_count": 40,
   "metadata": {
    "collapsed": false
   },
   "outputs": [
    {
     "name": "stdout",
     "output_type": "stream",
     "text": [
      "Connected components = 290 / Edges in Largest component = 197031 / Vertices in Largest component = 17903\n"
     ]
    }
   ],
   "source": [
    "# connected componet stats\n",
    "comp, hist = label_components(g)\n",
    "\n",
    "labels = list(set(comp.a))\n",
    "largest = label_largest_component(g)\n",
    "l = GraphView(g, vfilt=largest)\n",
    "\n",
    "print(\"Connected components = \" + str(len(labels)) + \" / Edges in Largest component = \" + str(l.num_edges()) + \" / Vertices in Largest component = \" + str(l.num_vertices()))"
   ]
  },
  {
   "cell_type": "code",
   "execution_count": 41,
   "metadata": {
    "collapsed": false
   },
   "outputs": [
    {
     "name": "stdout",
     "output_type": "stream",
     "text": [
      "Closeness stats -> max value = 1.0 / min value = 0.101486411411 / average = 0.275854933257 / SV = 0.152575595454\n"
     ]
    }
   ],
   "source": [
    "# vertex closeness stats\n",
    "vertex_closeness = closeness(g)\n",
    "c_list = []\n",
    "for vc in vertex_closeness.a:\n",
    "    if not math.isnan(vc):\n",
    "        c_list.append(vc)\n",
    "        \n",
    "print(\"Closeness stats -> max value = \" + str(max(c_list)) + \" / min value = \" + str(min(c_list)) + \" / average = \" + str(np.average(c_list)) + \" / SV = \" + str(np.std(c_list)))"
   ]
  },
  {
   "cell_type": "code",
   "execution_count": null,
   "metadata": {
    "collapsed": false
   },
   "outputs": [],
   "source": [
    "# betweenness stats\n",
    "vertex_betweenness, edge_betweenness = betweenness(g)\n",
    "print(\"Betweenness stats -> max value = \" + str(max(vertex_betweenness)) + \" / min value = \" + str(min(vertex_betweenness)) + \" / average = \" + str(np.average(vertex_betweenness)) + \" / SV = \" + str(vertex_betweenness))"
   ]
  },
  {
   "cell_type": "code",
   "execution_count": null,
   "metadata": {
    "collapsed": true
   },
   "outputs": [],
   "source": []
  }
 ],
 "metadata": {
  "kernelspec": {
   "display_name": "Python 3",
   "language": "python",
   "name": "python3"
  },
  "language_info": {
   "codemirror_mode": {
    "name": "ipython",
    "version": 3
   },
   "file_extension": ".py",
   "mimetype": "text/x-python",
   "name": "python",
   "nbconvert_exporter": "python",
   "pygments_lexer": "ipython3",
   "version": "3.4.3"
  }
 },
 "nbformat": 4,
 "nbformat_minor": 0
}

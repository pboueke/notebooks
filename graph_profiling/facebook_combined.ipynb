{
 "cells": [
  {
   "cell_type": "markdown",
   "metadata": {},
   "source": [
    "### This dataset consists of 'circles' (or 'friends lists') from Facebook. Facebook data was collected from survey participants using this Facebook app. The dataset includes node features (profiles), circles, and ego networks.\n",
    "\n",
    "http://snap.stanford.edu/data/egonets-Facebook.html"
   ]
  },
  {
   "cell_type": "code",
   "execution_count": 1,
   "metadata": {
    "collapsed": true
   },
   "outputs": [],
   "source": [
    "#setup\n",
    "from graph_tool.all import *\n",
    "import numpy as np\n",
    "import math\n",
    "\n",
    "file_path = \"/home/jawa/Datasets/facebook_combined.txt\""
   ]
  },
  {
   "cell_type": "code",
   "execution_count": 8,
   "metadata": {
    "collapsed": false
   },
   "outputs": [],
   "source": [
    "# initialization\n",
    "g = Graph(directed=False)\n",
    "\n",
    "neighbours = {}\n",
    "vertex_id = {}\n",
    "\n",
    "with open(file_path, encoding=\"UTF-8\") as f:\n",
    "    for line in f:\n",
    "        if line.startswith(\"#\"):\n",
    "            continue\n",
    "        l = line.replace(\"\\n\", \"\").split(\" \")\n",
    "        a = l[0]\n",
    "        b = l[1]\n",
    "        if a not in neighbours:\n",
    "            neighbours[a] = []\n",
    "        if b not in neighbours:\n",
    "            neighbours[b] = []\n",
    "        # see if we have been here before\n",
    "        if a in neighbours[b]:\n",
    "            continue\n",
    "        if b in neighbours[a]:\n",
    "            continue\n",
    "        # add to our check lists\n",
    "        neighbours[a].append(b)\n",
    "        neighbours[b].append(a)\n",
    "        # get the vertexes\n",
    "        if a not in vertex_id:\n",
    "            v_a = g.add_vertex()\n",
    "            vertex_id[a] = g.vertex_index[v_a]\n",
    "        else:\n",
    "            v_a = g.vertex(vertex_id[a])\n",
    "        if b not in vertex_id:\n",
    "            v_b = g.add_vertex()\n",
    "            vertex_id[b] = g.vertex_index[v_b]\n",
    "        else:\n",
    "            v_b = g.vertex(vertex_id[b])\n",
    "        # add the edge\n",
    "        g.add_edge(v_a, v_b)\n",
    "    "
   ]
  },
  {
   "cell_type": "code",
   "execution_count": 9,
   "metadata": {
    "collapsed": false
   },
   "outputs": [
    {
     "name": "stdout",
     "output_type": "stream",
     "text": [
      "Out degree stats -> max value = 1045 / min value = 1 / average = 43.6910126269 / SV = 52.4141155674\n"
     ]
    }
   ],
   "source": [
    "# degree stats\n",
    "degrre_data = {}\n",
    "degrre_data[\"out\"] = []\n",
    "degrre_data[\"in\"] = []\n",
    "counter = 0\n",
    "for v in g.vertices():\n",
    "        counter += 1\n",
    "        degrre_data[\"out\"].append(v.out_degree())\n",
    "        degrre_data[\"in\"].append(v.in_degree())\n",
    "    \n",
    "max_out = max(degrre_data[\"out\"])\n",
    "min_out = min(degrre_data[\"out\"])\n",
    "average_out = np.average(degrre_data[\"out\"])\n",
    "sd_out = np.std(degrre_data[\"out\"])\n",
    "print(\"Out degree stats -> max value = \" + str(max_out) + \" / min value = \" + str(min_out) + \" / average = \" + str(average_out) + \" / SV = \" + str(sd_out))"
   ]
  },
  {
   "cell_type": "code",
   "execution_count": 10,
   "metadata": {
    "collapsed": false
   },
   "outputs": [
    {
     "name": "stdout",
     "output_type": "stream",
     "text": [
      "Diameter = (8.0, (<Vertex object with index '1946' at 0x7f95c890a6d8>, <Vertex object with index '4035' at 0x7f95c890a840>))\n"
     ]
    }
   ],
   "source": [
    "# distance stats\n",
    "#shortest_distance = graph_tool.topology.shortest_distance(g)\n",
    "#global_avg = []\n",
    "#for dist in shortest_distance:\n",
    "#    global_avg.append(np.average(dist))\n",
    "pseudo_diameter = graph_tool.topology.pseudo_diameter(g)\n",
    "\n",
    "# there are non connect components in the graph, so we cant just calculate the avverage shortest distance\n",
    "#print(\"Shortest Distance Average = \" + str(np.average(global_avg)) + \" / Diameter = \" + str(pseudo_diameter))\n",
    "print(\"Diameter = \" + str(pseudo_diameter))"
   ]
  },
  {
   "cell_type": "code",
   "execution_count": 11,
   "metadata": {
    "collapsed": false
   },
   "outputs": [
    {
     "name": "stdout",
     "output_type": "stream",
     "text": [
      "Clustering Average = 0.278343743128 / Clustering SV = 0.240830534415\n"
     ]
    }
   ],
   "source": [
    "# clustering stats\n",
    "global_clustering = graph_tool.clustering.global_clustering(g)\n",
    "\n",
    "print (\"Clustering Average = \" + str(np.average(global_clustering)) + \" / \" + \"Clustering SV = \" + str(np.std(global_clustering)))"
   ]
  },
  {
   "cell_type": "code",
   "execution_count": 12,
   "metadata": {
    "collapsed": false
   },
   "outputs": [
    {
     "name": "stdout",
     "output_type": "stream",
     "text": [
      "Connected components = 1 / Edges in Largest component = 88234 / Vertices in Largest component = 4039\n"
     ]
    }
   ],
   "source": [
    "# connected componet stats\n",
    "comp, hist = label_components(g)\n",
    "\n",
    "labels = list(set(comp.a))\n",
    "largest = label_largest_component(g)\n",
    "l = GraphView(g, vfilt=largest)\n",
    "\n",
    "print(\"Connected components = \" + str(len(labels)) + \" / Edges in Largest component = \" + str(l.num_edges()) + \" / Vertices in Largest component = \" + str(l.num_vertices()))"
   ]
  },
  {
   "cell_type": "code",
   "execution_count": 13,
   "metadata": {
    "collapsed": false
   },
   "outputs": [
    {
     "name": "stdout",
     "output_type": "stream",
     "text": [
      "Closeness stats -> max value = 0.459699453552 / min value = 0.178254535823 / average = 0.276167763567 / SV = 0.0361196038432\n"
     ]
    }
   ],
   "source": [
    "# vertex closeness stats\n",
    "vertex_closeness = closeness(g)\n",
    "c_list = []\n",
    "for vc in vertex_closeness.a:\n",
    "    if not math.isnan(vc):\n",
    "        c_list.append(vc)\n",
    "        \n",
    "print(\"Closeness stats -> max value = \" + str(max(c_list)) + \" / min value = \" + str(min(c_list)) + \" / average = \" + str(np.average(c_list)) + \" / SV = \" + str(np.std(c_list)))"
   ]
  },
  {
   "cell_type": "code",
   "execution_count": 14,
   "metadata": {
    "collapsed": false
   },
   "outputs": [
    {
     "name": "stdout",
     "output_type": "stream",
     "text": [
      "Betweenness stats -> max value = 0.4805180785560148 / min value = 0.0 / average = 0.000666957356873 / SV = 0.011644899732\n"
     ]
    }
   ],
   "source": [
    "# betweenness stats\n",
    "vertex_betweenness, edge_betweenness = betweenness(g)\n",
    "v_b = list(vertex_betweenness)\n",
    "print(\"Betweenness stats -> max value = \" + str(max(v_b)) + \" / min value = \" + str(min(v_b)) + \" / average = \" + str(np.average(v_b)) + \" / SV = \" + str(np.std(v_b)))"
   ]
  },
  {
   "cell_type": "code",
   "execution_count": null,
   "metadata": {
    "collapsed": true
   },
   "outputs": [],
   "source": []
  }
 ],
 "metadata": {
  "kernelspec": {
   "display_name": "Python 3",
   "language": "python",
   "name": "python3"
  },
  "language_info": {
   "codemirror_mode": {
    "name": "ipython",
    "version": 3
   },
   "file_extension": ".py",
   "mimetype": "text/x-python",
   "name": "python",
   "nbconvert_exporter": "python",
   "pygments_lexer": "ipython3",
   "version": "3.4.3"
  }
 },
 "nbformat": 4,
 "nbformat_minor": 0
}
